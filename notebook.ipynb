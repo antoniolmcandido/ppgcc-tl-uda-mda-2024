{
 "cells": [
  {
   "cell_type": "markdown",
   "metadata": {
    "slideshow": {
     "slide_type": "slide"
    }
   },
   "source": [
    "#### [PPGCC / LADESC] MDA 2024\n",
    "##### Aprendizagem de transferência (TL - Transfer Learning) e Adaptação de Domínio"
   ]
  },
  {
   "cell_type": "markdown",
   "metadata": {
    "slideshow": {
     "slide_type": "subslide"
    }
   },
   "source": [
    "##### Introdução\n",
    "\n",
    "Neste tutorial, abordaremos:\n",
    "\n",
    "- Contexto(s) de aprendizagem de transferência\n",
    "- Aproveitamento de modelos pré-treinados\n",
    "- Adaptação de domínio não supervisionada"
   ]
  },
  {
   "cell_type": "markdown",
   "metadata": {
    "slideshow": {
     "slide_type": "slide"
    }
   },
   "source": "##### Lembretes da teoria"
  },
  {
   "cell_type": "markdown",
   "metadata": {
    "slideshow": {
     "slide_type": "subslide"
    }
   },
   "source": [
    "##### O contexto de aprendizagem supervisionada"
   ]
  },
  {
   "cell_type": "markdown",
   "metadata": {
    "slideshow": {
     "slide_type": "fragment"
    }
   },
   "source": [
    "Temos um conjunto de dados rotulado de $N$ amostras rotuladas: $\\left\\{ (\\vec{x}^i,y^i) \\right\\}_{i=1}^N$, onde\n",
    "- $\\vec{x}^i = \\left(x^i_1, \\dots, x^i_D\\right) \\in \\mathcal{X}$ é uma **amostra** ou **vetor de características**.\n",
    "- $y^i \\in \\mathcal{Y}$ é o **rótulo**.\n",
    "- Para classificação com $C$ classes, $\\mathcal{Y} = \\{0,\\dots,C-1\\}$, então cada $y^i$ é um **rótulo de classe**.\n",
    "- Normalmente, assumimos que cada amostra rotulada $(\\vec{x}^i,y^i)$\n",
    "é extraída de uma distribuição conjunta\n",
    "$$P(X|Y)=P(X)\\cdot P(Y|X)$$\n",
    "- Assumimos que alguma distribuição marginal de amostra $P(X)$ existe.\n",
    "- Queremos aprender $P(Y|X)$ a partir dos dados."
   ]
  },
  {
   "cell_type": "markdown",
   "metadata": {
    "slideshow": {
     "slide_type": "subslide"
    }
   },
   "source": [
    "Até agora, consideramos principalmente a configuração tradicional de **aprendizado supervisionado**:\n",
    "\n",
    "Assumimos que os conjuntos de **treinamento** e **teste** (que supostamente representam dados futuros não vistos)\n",
    "são ambos da mesma **distribuição** e ambos rotulados.\n",
    "\n",
    "Conseguimos assumir isso porque queríamos resolver uma tarefa com um conjunto de dados e poderíamos\n",
    "portanto, dividir nosso conjunto de dados em tais conjuntos.\n",
    "\n",
    "O que acontece quando esse não é o caso?"
   ]
  },
  {
   "cell_type": "markdown",
   "metadata": {
    "slideshow": {
     "slide_type": "slide"
    }
   },
   "source": [
    "##### Transfer learning (Aprendizagem de transferência)\n",
    "\n",
    "No mundo real, muitas vezes não temos o conjunto de treinamento perfeito para o nosso problema.\n",
    "\n",
    "O que devemos fazer quando a suposição de aprendizado supervisionado é inválida?\n",
    "\n",
    "<img src=\"./img/transfer_learning_digits.png\" width=\"700\"/>"
   ]
  },
  {
   "cell_type": "markdown",
   "metadata": {
    "slideshow": {
     "slide_type": "subslide"
    }
   },
   "source": [
    "##### Domínios e tarefas"
   ]
  },
  {
   "cell_type": "markdown",
   "metadata": {
    "slideshow": {
     "slide_type": "fragment"
    }
   },
   "source": [
    "Vamos começar com algumas definições para explicar o problema.\n",
    "\n",
    "- Imagine que temos um **espaço de características**, $\\mathcal{X}$\n",
    "- Por exemplo, $\\mathcal{X}$ é o espaço de imagens coloridas de tamanho 32x32, cada pixel no intervalo de 0-255"
   ]
  },
  {
   "cell_type": "code",
   "execution_count": 2,
   "metadata": {
    "slideshow": {
     "slide_type": "fragment"
    }
   },
   "outputs": [
    {
     "name": "stdout",
     "output_type": "stream",
     "text": [
      "10^7398.1131734380015\n"
     ]
    }
   ],
   "source": [
    "import math\n",
    "# tamanho deste espaço de recurso \"limitado\"\n",
    "print(f'10^{math.log10(256**(32**2*3))}')"
   ]
  },
  {
   "cell_type": "markdown",
   "metadata": {},
   "source": [
    "- Como de costume, temos um conjunto de treinamento $X=\\{\\vec{x}^{(i)}\\}_{i=1}^{N},\\ \\vec{x}^{(i)}\\in\\mathcal{X}$.\n",
    "- Por exemplo, CIFAR-10\n",
    "\n",
    "<img src=\"img/cifar10.png\" width=\"700\"/>"
   ]
  },
  {
   "cell_type": "markdown",
   "metadata": {
    "slideshow": {
     "slide_type": "subslide"
    }
   },
   "source": [
    "- Existe alguma **distribuição de probabilidade** $P(X)$ (também conhecida como $P_{X}(\\vec{x})$) sobre nosso conjunto de treinamento.\n",
    "    - Note que não nos importamos com a distribuição sobre $\\mathcal{X}$.\n",
    "    - Por exemplo, se $X$ for CIFAR-10, a probabilidade de uma imagem toda preta deve ser muito baixa\n",
    "    - Se as classes forem desbalanceadas, probabilidades muito diferentes para membros de classes grandes e pequenas\n",
    "\n",
    "    <img src=\"img/data_dist.jpg\" width=\"800\"/>"
   ]
  },
  {
   "cell_type": "markdown",
   "metadata": {
    "slideshow": {
     "slide_type": "subslide"
    }
   },
   "source": [
    "- Nosso **espaço de rótulos**, $\\mathcal{Y}$ inclui os rótulos possíveis para amostra em nosso problema.\n",
    "    - Por exemplo $\\mathcal{Y}=\\{0,1\\}$ em classificação binária.\n",
    "    - Podemos ter também $Y = \\{y^{(i)}\\}_{i=1}^{N}$, o conjunto de rótulos para nosso conjunto de dados."
   ]
  },
  {
   "cell_type": "markdown",
   "metadata": {
    "slideshow": {
     "slide_type": "fragment"
    }
   },
   "source": [
    "- Queremos aprender a função alvo $\\hat{y}=f(\\vec{x})$ que prevê um rótulo dada uma imagem.\n",
    "    - Da perspectiva probabilística, aprenda $P(\\hat{y}|\\vec{x})$."
   ]
  },
  {
   "cell_type": "markdown",
   "metadata": {
    "slideshow": {
     "slide_type": "fragment"
    }
   },
   "source": [
    "- Finalmente,\n",
    "    - Um **domínio** de aprendizagem $\\mathcal{D}$, é definido como $\\mathcal{D}=\\left\\{\\mathcal{X},P(X)\\right\\}$.\n",
    "    - Uma **tarefa** de aprendizagem $\\mathcal{T}$ é definida como $\\mathcal{T}=\\{\\mathcal{Y},P(Y|X)\\}$."
   ]
  },
  {
   "cell_type": "markdown",
   "metadata": {
    "slideshow": {
     "slide_type": "slide"
    }
   },
   "source": [
    "##### Configurações do Transfer Learning"
   ]
  },
  {
   "cell_type": "markdown",
   "metadata": {
    "slideshow": {
     "slide_type": "subslide"
    }
   },
   "source": [
    "**Definição** (Pan & Yang, 2010):\n",
    "\n",
    "Dado\n",
    "- Um domínio de **origem** $\\mathcal{D}_S$ (source) e a tarefa de aprendizagem $\\mathcal{T}_S$\n",
    "- Um domínio de **alvo** $\\mathcal{D}_T$ (target) e a tarefa de aprendizagem $\\mathcal{T}_T$\n",
    "\n",
    "*A aprendizagem por transferência* visa melhorar a aprendizagem da função alvo\n",
    "usando *conhecimento* em $\\mathcal{D}_S$ e $\\mathcal{T}_S$, quando\n",
    "- $\\mathcal{D}_S \\neq \\mathcal{D}_T$, ou\n",
    "- $\\mathcal{T}_S \\neq \\mathcal{T}_T$\n",
    "\n",
    "Normalmente também há outras restrições no domínio alvo, como poucos ou nenhum rótulo disponível."
   ]
  },
  {
   "cell_type": "markdown",
   "metadata": {
    "slideshow": {
     "slide_type": "subslide"
    }
   },
   "source": [
    "Quando $\\mathcal{D}_S=\\mathcal{D}_T$ e $\\mathcal{T}_S=\\mathcal{T}_T$ estamos no cenário regular de aprendizado supervisionado\n",
    "que vimos até agora.\n",
    "\n",
    "Por exemplo, dividindo o CIFAR-10 aleatoriamente em um conjunto de treinamento e teste."
   ]
  },
  {
   "cell_type": "markdown",
   "metadata": {
    "slideshow": {
     "slide_type": "subslide"
    }
   },
   "source": "##### Mesmo domínio, tarefa diferente"
  },
  {
   "cell_type": "markdown",
   "metadata": {
    "slideshow": {
     "slide_type": "fragment"
    }
   },
   "source": [
    "Lembre-se, uma **tarefa** de aprendizado $\\mathcal{T}$ é definida como $\\mathcal{T}=\\{\\mathcal{Y},P(Y|X)\\}$.\n",
    "\n",
    "Então há dois casos (não mutuamente exclusivos)."
   ]
  },
  {
   "cell_type": "markdown",
   "metadata": {
    "slideshow": {
     "slide_type": "subslide"
    }
   },
   "source": [
    "Caso 1: Os espaços de rótulo são diferentes, $\\mathcal{Y}_S \\neq \\mathcal{Y}_T$\n",
    "\n",
    "Por exemplo, o domínio alvo tem mais classes.\n",
    "\n",
    "<img src=\"img/cifar10_100.png\" width=\"900\"/>"
   ]
  },
  {
   "cell_type": "markdown",
   "metadata": {
    "slideshow": {
     "slide_type": "subslide"
    }
   },
   "source": [
    "Caso 2: As distribuições condicionais do alvo são diferentes, $P(Y_S|X_S)\\neq P(Y_T|X_T)$.\n",
    "\n",
    "Este pode ser o caso quando o equilíbrio de classe é muito diferente nas distribuições de origem e de destino."
   ]
  },
  {
   "cell_type": "markdown",
   "metadata": {
    "slideshow": {
     "slide_type": "subslide"
    }
   },
   "source": [
    "##### Mesma tarefa, domínio diferente"
   ]
  },
  {
   "cell_type": "markdown",
   "metadata": {
    "slideshow": {
     "slide_type": "fragment"
    }
   },
   "source": [
    "Lembre-se, um **domínio** de aprendizagem $\\mathcal{D}$, é definido como $\\mathcal{D}=\\left\\{\\mathcal{X},P(X)\\right\\}$.\n",
    "\n",
    "Novamente, dois casos."
   ]
  },
  {
   "cell_type": "markdown",
   "metadata": {
    "slideshow": {
     "slide_type": "fragment"
    }
   },
   "source": [
    "Caso 1: Diferentes espaços de características, $\\mathcal{X}_S \\neq \\mathcal{X}_T$.\n",
    "\n",
    "Por exemplo: $\\mathcal{X}_S$ é um espaço de imagens em tons de cinza enquanto $\\mathcal{X}_T$ é um espaço de imagens coloridas;\n",
    "documentos em diferentes idiomas."
   ]
  },
  {
   "cell_type": "markdown",
   "metadata": {
    "slideshow": {
     "slide_type": "subslide"
    }
   },
   "source": [
    "Caso 2: Distribuições de dados diferentes, $P(X_S)\\neq P(X_T)$.\n",
    "\n",
    "Por exemplo: o domínio de origem contém imagens desenhadas à mão, enquanto o domínio de destino contém fotografias;\n",
    "documentos no mesmo idioma sobre tópicos diferentes.\n",
    "\n",
    "<img src=\"img/tl_example.png\" width=\"400\"/>\n",
    "\n",
    "Este é um cenário muito comum e geralmente chamado de **adaptação de domínio**."
   ]
  },
  {
   "cell_type": "markdown",
   "metadata": {
    "slideshow": {
     "slide_type": "subslide"
    }
   },
   "source": [
    "TL é um campo de pesquisa enorme, divido em:\n",
    "\n",
    "<img src=\"img/pan_yang.png\" width=\"1000\" />\n",
    "\n",
    "Neste tutorial, veremos dois exemplos simples, mas comuns."
   ]
  },
  {
   "cell_type": "markdown",
   "metadata": {
    "slideshow": {
     "slide_type": "slide"
    }
   },
   "source": [
    "##### Parte 1: Ajuste fino de um modelo pré-treinado"
   ]
  },
  {
   "cell_type": "markdown",
   "metadata": {
    "slideshow": {
     "slide_type": "fragment"
    }
   },
   "source": [
    "Nós treinamos um modelo em um domínio de origem,\n",
    "e agora queremos usá-lo para acelerar o treinamento para um domínio diferente.\n",
    "\n",
    "Em algumas aplicações, podemos ter muito menos dados rotulados no domínio alvo, tornando inviável treinar um modelo profundo do zero."
   ]
  },
  {
   "cell_type": "markdown",
   "metadata": {
    "slideshow": {
     "slide_type": "subslide"
    }
   },
   "source": [
    "Exemplo comum: pré-treinar no ImageNet (1M+ imagens, 1000 classes) e então classificar, por exemplo, imagens médicas.\n",
    "\n",
    "<img src=\"img/transfer-learning-medical.png\" width=\"700\" />"
   ]
  },
  {
   "cell_type": "markdown",
   "metadata": {
    "slideshow": {
     "slide_type": "subslide"
    }
   },
   "source": [
    "Por que isso funcionaria?"
   ]
  },
  {
   "cell_type": "markdown",
   "metadata": {
    "slideshow": {
     "slide_type": "fragment"
    }
   },
   "source": [
    "CNNs capturam características hierárquicas, com camadas mais profundas capturando características de nível superior e específicas de classe\n",
    "(Zeiler & Fergus, 2013).\n",
    "\n",
    "<img src=\"img/zf1.png\" width=\"900\"/>"
   ]
  },
  {
   "cell_type": "markdown",
   "metadata": {
    "slideshow": {
     "slide_type": "subslide"
    }
   },
   "source": [
    "<img src=\"img/zf2.png\" width=\"1400\"/>"
   ]
  },
  {
   "cell_type": "markdown",
   "metadata": {
    "slideshow": {
     "slide_type": "subslide"
    }
   },
   "source": [
    "- Portanto, podemos começar de um modelo pré-treinado e,\n",
    "    - \"Ajustar\" os filtros convolucionais, principalmente nas camadas mais profundas.\n",
    "    - Alterar o classificador (ou removê-lo completamente) para se adequar à nossa tarefa e treiná-lo do zero."
   ]
  },
  {
   "metadata": {},
   "cell_type": "code",
   "outputs": [],
   "execution_count": null,
   "source": [
    "# Setup\n",
    "import numpy as np\n",
    "import matplotlib.pyplot as plt\n",
    "%matplotlib inline\n",
    "import os\n",
    "import sys\n",
    "import torch\n",
    "# remove warnings\n",
    "import warnings\n",
    "\n",
    "warnings.filterwarnings(\"ignore\")\n",
    "\n",
    "plt.rcParams['font.size'] = 20\n",
    "data_dir = os.path.expanduser('D:/Downloads/mda-datasets')\n",
    "device = torch.device('cuda' if torch.cuda.is_available() else 'cpu')\n",
    "device"
   ]
  },
  {
   "cell_type": "code",
   "execution_count": 3,
   "metadata": {
    "scrolled": true,
    "slideshow": {
     "slide_type": "subslide"
    }
   },
   "outputs": [
    {
     "data": {
      "text/plain": [
       "ResNet(\n",
       "  (conv1): Conv2d(3, 64, kernel_size=(7, 7), stride=(2, 2), padding=(3, 3), bias=False)\n",
       "  (bn1): BatchNorm2d(64, eps=1e-05, momentum=0.1, affine=True, track_running_stats=True)\n",
       "  (relu): ReLU(inplace=True)\n",
       "  (maxpool): MaxPool2d(kernel_size=3, stride=2, padding=1, dilation=1, ceil_mode=False)\n",
       "  (layer1): Sequential(\n",
       "    (0): BasicBlock(\n",
       "      (conv1): Conv2d(64, 64, kernel_size=(3, 3), stride=(1, 1), padding=(1, 1), bias=False)\n",
       "      (bn1): BatchNorm2d(64, eps=1e-05, momentum=0.1, affine=True, track_running_stats=True)\n",
       "      (relu): ReLU(inplace=True)\n",
       "      (conv2): Conv2d(64, 64, kernel_size=(3, 3), stride=(1, 1), padding=(1, 1), bias=False)\n",
       "      (bn2): BatchNorm2d(64, eps=1e-05, momentum=0.1, affine=True, track_running_stats=True)\n",
       "    )\n",
       "    (1): BasicBlock(\n",
       "      (conv1): Conv2d(64, 64, kernel_size=(3, 3), stride=(1, 1), padding=(1, 1), bias=False)\n",
       "      (bn1): BatchNorm2d(64, eps=1e-05, momentum=0.1, affine=True, track_running_stats=True)\n",
       "      (relu): ReLU(inplace=True)\n",
       "      (conv2): Conv2d(64, 64, kernel_size=(3, 3), stride=(1, 1), padding=(1, 1), bias=False)\n",
       "      (bn2): BatchNorm2d(64, eps=1e-05, momentum=0.1, affine=True, track_running_stats=True)\n",
       "    )\n",
       "  )\n",
       "  (layer2): Sequential(\n",
       "    (0): BasicBlock(\n",
       "      (conv1): Conv2d(64, 128, kernel_size=(3, 3), stride=(2, 2), padding=(1, 1), bias=False)\n",
       "      (bn1): BatchNorm2d(128, eps=1e-05, momentum=0.1, affine=True, track_running_stats=True)\n",
       "      (relu): ReLU(inplace=True)\n",
       "      (conv2): Conv2d(128, 128, kernel_size=(3, 3), stride=(1, 1), padding=(1, 1), bias=False)\n",
       "      (bn2): BatchNorm2d(128, eps=1e-05, momentum=0.1, affine=True, track_running_stats=True)\n",
       "      (downsample): Sequential(\n",
       "        (0): Conv2d(64, 128, kernel_size=(1, 1), stride=(2, 2), bias=False)\n",
       "        (1): BatchNorm2d(128, eps=1e-05, momentum=0.1, affine=True, track_running_stats=True)\n",
       "      )\n",
       "    )\n",
       "    (1): BasicBlock(\n",
       "      (conv1): Conv2d(128, 128, kernel_size=(3, 3), stride=(1, 1), padding=(1, 1), bias=False)\n",
       "      (bn1): BatchNorm2d(128, eps=1e-05, momentum=0.1, affine=True, track_running_stats=True)\n",
       "      (relu): ReLU(inplace=True)\n",
       "      (conv2): Conv2d(128, 128, kernel_size=(3, 3), stride=(1, 1), padding=(1, 1), bias=False)\n",
       "      (bn2): BatchNorm2d(128, eps=1e-05, momentum=0.1, affine=True, track_running_stats=True)\n",
       "    )\n",
       "  )\n",
       "  (layer3): Sequential(\n",
       "    (0): BasicBlock(\n",
       "      (conv1): Conv2d(128, 256, kernel_size=(3, 3), stride=(2, 2), padding=(1, 1), bias=False)\n",
       "      (bn1): BatchNorm2d(256, eps=1e-05, momentum=0.1, affine=True, track_running_stats=True)\n",
       "      (relu): ReLU(inplace=True)\n",
       "      (conv2): Conv2d(256, 256, kernel_size=(3, 3), stride=(1, 1), padding=(1, 1), bias=False)\n",
       "      (bn2): BatchNorm2d(256, eps=1e-05, momentum=0.1, affine=True, track_running_stats=True)\n",
       "      (downsample): Sequential(\n",
       "        (0): Conv2d(128, 256, kernel_size=(1, 1), stride=(2, 2), bias=False)\n",
       "        (1): BatchNorm2d(256, eps=1e-05, momentum=0.1, affine=True, track_running_stats=True)\n",
       "      )\n",
       "    )\n",
       "    (1): BasicBlock(\n",
       "      (conv1): Conv2d(256, 256, kernel_size=(3, 3), stride=(1, 1), padding=(1, 1), bias=False)\n",
       "      (bn1): BatchNorm2d(256, eps=1e-05, momentum=0.1, affine=True, track_running_stats=True)\n",
       "      (relu): ReLU(inplace=True)\n",
       "      (conv2): Conv2d(256, 256, kernel_size=(3, 3), stride=(1, 1), padding=(1, 1), bias=False)\n",
       "      (bn2): BatchNorm2d(256, eps=1e-05, momentum=0.1, affine=True, track_running_stats=True)\n",
       "    )\n",
       "  )\n",
       "  (layer4): Sequential(\n",
       "    (0): BasicBlock(\n",
       "      (conv1): Conv2d(256, 512, kernel_size=(3, 3), stride=(2, 2), padding=(1, 1), bias=False)\n",
       "      (bn1): BatchNorm2d(512, eps=1e-05, momentum=0.1, affine=True, track_running_stats=True)\n",
       "      (relu): ReLU(inplace=True)\n",
       "      (conv2): Conv2d(512, 512, kernel_size=(3, 3), stride=(1, 1), padding=(1, 1), bias=False)\n",
       "      (bn2): BatchNorm2d(512, eps=1e-05, momentum=0.1, affine=True, track_running_stats=True)\n",
       "      (downsample): Sequential(\n",
       "        (0): Conv2d(256, 512, kernel_size=(1, 1), stride=(2, 2), bias=False)\n",
       "        (1): BatchNorm2d(512, eps=1e-05, momentum=0.1, affine=True, track_running_stats=True)\n",
       "      )\n",
       "    )\n",
       "    (1): BasicBlock(\n",
       "      (conv1): Conv2d(512, 512, kernel_size=(3, 3), stride=(1, 1), padding=(1, 1), bias=False)\n",
       "      (bn1): BatchNorm2d(512, eps=1e-05, momentum=0.1, affine=True, track_running_stats=True)\n",
       "      (relu): ReLU(inplace=True)\n",
       "      (conv2): Conv2d(512, 512, kernel_size=(3, 3), stride=(1, 1), padding=(1, 1), bias=False)\n",
       "      (bn2): BatchNorm2d(512, eps=1e-05, momentum=0.1, affine=True, track_running_stats=True)\n",
       "    )\n",
       "  )\n",
       "  (avgpool): AdaptiveAvgPool2d(output_size=(1, 1))\n",
       "  (fc): Linear(in_features=512, out_features=1000, bias=True)\n",
       ")"
      ]
     },
     "execution_count": 3,
     "metadata": {},
     "output_type": "execute_result"
    }
   ],
   "source": [
    "import torchvision as tv\n",
    "\n",
    "# Carregando uma CNN profunda pré-treinada no ImageNet\n",
    "# Usando ResNet18, para reduzir o tamanho do download, se necessário use algo mais profundo\n",
    "resnet18 = tv.models.resnet18(pretrained=True)\n",
    "resnet18"
   ]
  },
  {
   "cell_type": "code",
   "execution_count": 4,
   "metadata": {
    "slideshow": {
     "slide_type": "subslide"
    }
   },
   "outputs": [],
   "source": [
    "# Congelando todas as camadas: desabilitar o rastreamento de gradiente\n",
    "for p in resnet18.parameters():\n",
    "    p.requires_grad = False"
   ]
  },
  {
   "cell_type": "code",
   "execution_count": 5,
   "metadata": {
    "slideshow": {
     "slide_type": "fragment"
    }
   },
   "outputs": [],
   "source": [
    "# Descongelando a última camada (ou o que for relevante para você)\n",
    "for p in resnet18.layer4.parameters():\n",
    "    p.requires_grad = True"
   ]
  },
  {
   "cell_type": "code",
   "execution_count": 6,
   "metadata": {
    "slideshow": {
     "slide_type": "fragment"
    }
   },
   "outputs": [],
   "source": [
    "import torch.optim\n",
    "\n",
    "# Outra maneira de congelar: taxas de aprendizagem zero para parâmetros específicos\n",
    "opt = torch.optim.SGD([\n",
    "    dict(params=resnet18.layer1.parameters(), lr=0),\n",
    "    dict(params=resnet18.layer2.parameters(), lr=0),\n",
    "    dict(params=resnet18.layer3.parameters(), lr=0),\n",
    "    dict(params=resnet18.layer4.parameters(), lr=1e-4),\n",
    "    dict(params=resnet18.fc.parameters()),\n",
    "], lr=1e-2, momentum=0.9)"
   ]
  },
  {
   "cell_type": "code",
   "execution_count": 7,
   "metadata": {
    "slideshow": {
     "slide_type": "subslide"
    }
   },
   "outputs": [],
   "source": [
    "import torch.nn as nn\n",
    "\n",
    "# Substituir a parte totalmente conectada por algum outro classificador, por exemplo:\n",
    "\n",
    "cnn_features = resnet18.fc.in_features\n",
    "num_classes = 13\n",
    "\n",
    "resnet18.fc =  nn.Sequential(\n",
    "    nn.Linear(cnn_features, 100, bias=True),\n",
    "    nn.ReLU(),\n",
    "    nn.Linear(100, num_classes, bias=True),\n",
    ")"
   ]
  },
  {
   "cell_type": "code",
   "execution_count": 8,
   "metadata": {
    "slideshow": {
     "slide_type": "subslide"
    }
   },
   "outputs": [
    {
     "name": "stdout",
     "output_type": "stream",
     "text": [
      "Files already downloaded and verified\n",
      "Files already downloaded and verified\n"
     ]
    }
   ],
   "source": [
    "import torchvision.transforms as tvtf\n",
    "\n",
    "# Importante: precisamos dimensionar nossos dados da mesma forma que os dados de treinamento do ImageNet\n",
    "tf = tvtf.Compose([\n",
    "    tvtf.Resize(224),\n",
    "    tvtf.ToTensor(),\n",
    "    tvtf.Normalize(mean=[0.485, 0.456, 0.406], std=[0.229, 0.224, 0.225]),\n",
    "])\n",
    "\n",
    "# Carregando os dados do domínio alvo (CIFAR-10 usado apenas como um exemplo simples)\n",
    "ds_train = tv.datasets.CIFAR10(root=data_dir, download=True, train=True, transform=tf)\n",
    "ds_test = tv.datasets.CIFAR10(root=data_dir, download=True, train=False, transform=tf)\n",
    "\n",
    "batch_size = 8\n",
    "dl_train = torch.utils.data.DataLoader(ds_train, batch_size, shuffle=True, num_workers=2)\n",
    "dl_test = torch.utils.data.DataLoader(ds_test, batch_size, shuffle=True, num_workers=2)"
   ]
  },
  {
   "cell_type": "code",
   "execution_count": 9,
   "metadata": {
    "slideshow": {
     "slide_type": "fragment"
    }
   },
   "outputs": [
    {
     "data": {
      "text/plain": [
       "tensor([[-0.0517, -0.1231, -0.0341,  0.2530,  0.3909, -0.2339,  0.5353,  0.1670,\n",
       "          0.0644, -0.3603,  0.1518, -0.1385, -0.2485]],\n",
       "       grad_fn=<AddmmBackward0>)"
      ]
     },
     "execution_count": 9,
     "metadata": {},
     "output_type": "execute_result"
    }
   ],
   "source": [
    "resnet18(ds_train[0][0].unsqueeze(dim=0))"
   ]
  },
  {
   "cell_type": "code",
   "execution_count": 10,
   "metadata": {
    "slideshow": {
     "slide_type": "subslide"
    }
   },
   "outputs": [],
   "source": [
    "import torch.optim as optim\n",
    "\n",
    "# Importante: Somente parâmetros que rastreiam gradientes podem ser passados ​​para o otimizador\n",
    "params_non_frozen = filter(lambda p: p.requires_grad, resnet18.parameters())\n",
    "opt = optim.SGD(params_non_frozen, lr=0.05, momentum=0.9)\n",
    "\n",
    "# O ajuste fino geralmente significa que queremos taxas de aprendizado menores do que o normal e\n",
    "# decaindo-as para continuar melhorando os pesos\n",
    "lr_sched = optim.lr_scheduler.ReduceLROnPlateau(opt, factor=0.05, patience=5,)\n",
    "\n",
    "loss_fn = nn.CrossEntropyLoss()\n",
    "\n",
    "def train(model, loss_fn, opt, lr_sched, dl_train, dl_test):\n",
    "    # Assim como no treinamento regular do classificador, basta chamar lr_scheduler.step() a cada época.\n",
    "    # ...\n",
    "    pass"
   ]
  },
  {
   "cell_type": "markdown",
   "metadata": {
    "slideshow": {
     "slide_type": "slide"
    }
   },
   "source": "##### Parte 2: Adaptação de domínio não supervisionada"
  },
  {
   "cell_type": "markdown",
   "metadata": {
    "slideshow": {
     "slide_type": "subslide"
    }
   },
   "source": [
    "Vamos considerar um problema com domínios diferentes, mas uma tarefa idêntica:\n",
    "\n",
    "- Domínio de origem: MNIST\n",
    "- Domínio de destino: MNIST-M, uma versão colorida e texturizada do MNIST\n",
    "\n",
    "A tarefa em ambos os casos é a classificação usual de 10 dígitos de classe.\n",
    "\n",
    "<img src=\"img/mnist_m.png\" />"
   ]
  },
  {
   "metadata": {},
   "cell_type": "markdown",
   "source": [
    "##### Exemplo de UDA com treinamento adversarial\n",
    "> DANN (Ganin et al. 2015) - Domain-Adversarial Training of Neural Networks"
   ]
  },
  {
   "cell_type": "markdown",
   "metadata": {
    "slideshow": {
     "slide_type": "fragment"
    }
   },
   "source": [
    "Configuração de DA **Não supervisionado**:\n",
    "\n",
    "Presumimos que não há **rótulos disponíveis** para o domínio alvo."
   ]
  },
  {
   "cell_type": "markdown",
   "metadata": {
    "slideshow": {
     "slide_type": "subslide"
    }
   },
   "source": [
    "Precisamos forçar uma CNN a aprender características das formas dos dígitos apenas, não das distribuições de cores.\n",
    "\n",
    "A abordagem, (com base em Ganin et al. 2015):"
   ]
  },
  {
   "cell_type": "markdown",
   "metadata": {
    "slideshow": {
     "slide_type": "subslide"
    }
   },
   "source": [
    "- Treinar um classificador para o **domínio** de uma imagem com base em recursos convolucionais profundos.\n",
    "    - Tentar maximizar a perda do classificador ```domain classifier``` ao treinar a CNN (**perda de confusão** - $Loss$ $L_D$).\n",
    "    - Simultaneamente, minimizar a perda de classificação do ```label predictor``` no domínio de origem (**perda de rótulos** - $Loss$ $L_y$). usando os mesmos recursos convolucionais.\n",
    "- Treinar o classificador de dígitos com dados do domínio de origem e o classificador de domínio com dados de ambos os domínios.\n",
    "\n",
    "<img src=\"img/ganin_da.png\" width=\"1400\" />"
   ]
  },
  {
   "metadata": {},
   "cell_type": "markdown",
   "source": [
    "$$\n",
    "L_{total} = \\frac{1}{n} \\sum_{i=1}^{n} L_y^i (\\theta_f,\\theta_y) - \\lambda \\left( \\frac{1}{n} \\sum_{i=1}^{n} L_d^i (\\theta_f,\\theta_d) + \\frac{1}{n^\\prime} \\sum_{i=1}^{n^\\prime} L_d^i (\\theta_f,\\theta_d) \\right).\n",
    "$$"
   ]
  },
  {
   "cell_type": "markdown",
   "metadata": {
    "slideshow": {
     "slide_type": "subslide"
    }
   },
   "source": [
    "##### Dados de domínio fonte e alvo"
   ]
  },
  {
   "cell_type": "markdown",
   "metadata": {
    "slideshow": {
     "slide_type": "skip"
    }
   },
   "source": [
    "Observação: para que o próximo bloco seja executado, você deve [baixar](https://1drv.ms/u/c/1ce6b4820c5c5590/EXf0iwWLDdFPn9pxMxqSPugB9vrtoWygqlEzfJ9ws8vQjw?e=JrIcf2) manualmente o conjunto de dados MNIST-M e descompactá-lo em `data_dir` que você definiu no início deste notebook."
   ]
  },
  {
   "cell_type": "code",
   "execution_count": 11,
   "metadata": {
    "slideshow": {
     "slide_type": "fragment"
    }
   },
   "outputs": [],
   "source": [
    "from utils.data import MNISTMDataset\n",
    "\n",
    "image_size = 28\n",
    "batch_size = 4\n",
    "\n",
    "tf_source = tvtf.Compose([\n",
    "    tvtf.Resize(image_size),\n",
    "    tvtf.ToTensor(),\n",
    "    tvtf.Normalize(mean=(0.1307,), std=(0.3081,))\n",
    "])\n",
    "tf_target = tvtf.Compose([\n",
    "    tvtf.Resize(image_size),\n",
    "    tvtf.ToTensor(),\n",
    "    tvtf.Normalize(mean=(0.5, 0.5, 0.5), std=(0.5, 0.5, 0.5))\n",
    "])\n",
    "\n",
    "ds_source = tv.datasets.MNIST(root=data_dir, train=True, transform=tf_source, download=True)\n",
    "dl_source = torch.utils.data.DataLoader(ds_source, batch_size)\n",
    "\n",
    "ds_target = MNISTMDataset(os.path.join(data_dir, 'mnist_m', 'mnist_m_train'),\n",
    "                          os.path.join(data_dir, 'mnist_m', 'mnist_m_train_labels.txt'),\n",
    "                         transform=tf_target)\n",
    "dl_target = torch.utils.data.DataLoader(ds_target, batch_size)"
   ]
  },
  {
   "cell_type": "code",
   "execution_count": 12,
   "metadata": {
    "slideshow": {
     "slide_type": "subslide"
    }
   },
   "outputs": [
    {
     "data": {
      "image/png": "[encoded data removed]",
      "text/plain": [
       "<Figure size 800x800 with 3 Axes>"
      ]
     },
     "metadata": {},
     "output_type": "display_data"
    },
    {
     "data": {
      "image/png": "[encoded data removed]",
      "text/plain": [
       "<Figure size 800x800 with 3 Axes>"
      ]
     },
     "metadata": {},
     "output_type": "display_data"
    }
   ],
   "source": [
    "from utils.plots import dataset_first_n\n",
    "\n",
    "dataset_first_n(ds_source, 3, cmap='gray');\n",
    "dataset_first_n(ds_target, 3);"
   ]
  },
  {
   "cell_type": "markdown",
   "metadata": {
    "slideshow": {
     "slide_type": "subslide"
    }
   },
   "source": [
    "##### Modelo"
   ]
  },
  {
   "cell_type": "markdown",
   "metadata": {
    "slideshow": {
     "slide_type": "fragment"
    }
   },
   "source": [
    "Nosso modelo consistirá em três partes, como na figura:\n",
    "\n",
    "- Uma CNN \"profunda\" para extração de características de imagem (2x Conv, ReLU, MaxPool)\n",
    "- Um classificador de dígitos (3x FC, ReLU)\n",
    "- Um classificador de domínio (2x FC, ReLU), com uma **camada de reversão de gradiente** (GRL).\n",
    "\n",
    "<img src=\"img/ganin_da2.png\" width=\"1400\" />"
   ]
  },
  {
   "cell_type": "markdown",
   "metadata": {
    "slideshow": {
     "slide_type": "fragment"
    }
   },
   "source": [
    "Lembre-se: GRL não é utilizado no forward (passe para a frente), mas aplica-se o fator $-\\lambda$ ao gradiente no backward (passe para trás).\n",
    "\n",
    "Como podemos implementar isso?"
   ]
  },
  {
   "cell_type": "code",
   "execution_count": 13,
   "metadata": {
    "slideshow": {
     "slide_type": "subslide"
    }
   },
   "outputs": [],
   "source": [
    "from torch.autograd import Function\n",
    "\n",
    "class GradientReversalFn(Function):\n",
    "    @staticmethod\n",
    "    def forward(ctx, x, alpha):        \n",
    "        ctx.alpha = alpha\n",
    "        return x.view_as(x)\n",
    "\n",
    "    @staticmethod\n",
    "    def backward(ctx, grad_output):\n",
    "        # gradiente reverso\n",
    "        output = grad_output.neg() * ctx.alpha        \n",
    "        return output, None"
   ]
  },
  {
   "cell_type": "code",
   "execution_count": 14,
   "metadata": {
    "slideshow": {
     "slide_type": "subslide"
    }
   },
   "outputs": [],
   "source": [
    "class DACNN(nn.Module):\n",
    "    def __init__(self):\n",
    "        super().__init__()\n",
    "        self.feature_extractor = nn.Sequential(\n",
    "            nn.Conv2d(3, 64, kernel_size=5),\n",
    "            nn.BatchNorm2d(64), nn.MaxPool2d(2),\n",
    "            nn.ReLU(True),\n",
    "            nn.Conv2d(64, 50, kernel_size=5),\n",
    "            nn.BatchNorm2d(50), nn.Dropout2d(), nn.MaxPool2d(2),\n",
    "            nn.ReLU(True),\n",
    "        )\n",
    "        self.class_classifier = nn.Sequential(\n",
    "            nn.Linear(50 * 4 * 4, 100), nn.BatchNorm1d(100), nn.Dropout2d(),\n",
    "            nn.ReLU(True),\n",
    "            nn.Linear(100, 100), nn.BatchNorm1d(100),\n",
    "            nn.ReLU(True),\n",
    "            nn.Linear(100, 10),\n",
    "            nn.LogSoftmax(dim=1),\n",
    "        )\n",
    "        self.domain_classifier = nn.Sequential(\n",
    "            nn.Linear(50 * 4 * 4, 100), nn.BatchNorm1d(100),\n",
    "            nn.ReLU(True),\n",
    "            nn.Linear(100, 2),\n",
    "            nn.LogSoftmax(dim=1),\n",
    "        )\n",
    "\n",
    "    def forward(self, x, grl_lambda=1.0):        \n",
    "        x = x.expand(x.data.shape[0], 3, image_size, image_size)\n",
    "        \n",
    "        features = self.feature_extractor(x)\n",
    "        features = features.view(-1, 50 * 4 * 4)\n",
    "        reverse_features = GradientReversalFn.apply(features, grl_lambda)\n",
    "        \n",
    "        class_pred = self.class_classifier(features)\n",
    "        domain_pred = self.domain_classifier(reverse_features)\n",
    "        return class_pred, domain_pred"
   ]
  },
  {
   "cell_type": "markdown",
   "metadata": {
    "slideshow": {
     "slide_type": "subslide"
    }
   },
   "source": [
    "Por que deixar $\\lambda$ (`grl_lambda` no código) mudar durante o treinamento (por exemplo, a cada época)?"
   ]
  },
  {
   "cell_type": "markdown",
   "metadata": {
    "slideshow": {
     "slide_type": "fragment"
    }
   },
   "source": [
    "- No início do treinamento, a perda de domínio é extremamente ruidosa, pois os recursos da CNN ainda não são bons.\n",
    "- Portanto, lambda é gradualmente alterado de 0 para 1 no curso do treinamento.\n",
    "$$\n",
    "\\lambda_p = \\frac{2}{1+\\exp(-10\\cdot p)} -1,\n",
    "$$\n",
    "onde $p\\in[0,1]$ é o progresso do treinamento."
   ]
  },
  {
   "cell_type": "code",
   "execution_count": 15,
   "metadata": {
    "slideshow": {
     "slide_type": "slide"
    }
   },
   "outputs": [
    {
     "name": "stdout",
     "output_type": "stream",
     "text": [
      "source domain:  torch.Size([4, 1, 28, 28]) torch.Size([4])\n",
      "target domain:  torch.Size([4, 3, 28, 28]) torch.Size([4])\n"
     ]
    },
    {
     "data": {
      "text/plain": [
       "(tensor([[-3.1019, -2.8803, -1.3769, -1.7143, -2.4222, -2.5921, -2.7698, -2.4844,\n",
       "          -2.5541, -2.5375],\n",
       "         [-3.4192, -1.8426, -2.1175, -2.2688, -1.6946, -2.2629, -2.9015, -2.6262,\n",
       "          -2.5002, -2.4302],\n",
       "         [-2.0990, -2.3966, -2.0615, -2.3983, -2.3497, -2.6480, -2.3784, -1.7760,\n",
       "          -2.9630, -2.4259],\n",
       "         [-2.0230, -2.3446, -2.5302, -1.9031, -2.8394, -2.1098, -2.4986, -2.7489,\n",
       "          -1.9648, -2.5640]], grad_fn=<LogSoftmaxBackward0>),\n",
       " tensor([[-0.8835, -0.5333],\n",
       "         [-0.5510, -0.8589],\n",
       "         [-0.7486, -0.6406],\n",
       "         [-0.7506, -0.6388]], grad_fn=<LogSoftmaxBackward0>))"
      ]
     },
     "execution_count": 15,
     "metadata": {},
     "output_type": "execute_result"
    }
   ],
   "source": [
    "model = DACNN()\n",
    "\n",
    "x0_s, y0_s = next(iter(dl_source))\n",
    "x0_t, y0_t = next(iter(dl_target))\n",
    "\n",
    "print('source domain: ', x0_s.shape, y0_s.shape)\n",
    "print('target domain: ', x0_t.shape, y0_t.shape)\n",
    "\n",
    "model(x0_s)\n",
    "model(x0_t)"
   ]
  },
  {
   "cell_type": "markdown",
   "metadata": {
    "slideshow": {
     "slide_type": "slide"
    }
   },
   "source": [
    "##### Treinamento"
   ]
  },
  {
   "cell_type": "code",
   "execution_count": 16,
   "metadata": {
    "slideshow": {
     "slide_type": "fragment"
    }
   },
   "outputs": [],
   "source": [
    "lr = 1e-3\n",
    "n_epochs = 1\n",
    "\n",
    "model = DACNN()\n",
    "optimizer = optim.Adam(model.parameters(), lr)\n",
    "\n",
    "# Duas funções de perda: uma para classificação e outra para domínio\n",
    "loss_fn_class = torch.nn.NLLLoss()\n",
    "loss_fn_domain = torch.nn.NLLLoss()"
   ]
  },
  {
   "cell_type": "code",
   "execution_count": 17,
   "metadata": {
    "slideshow": {
     "slide_type": "fragment"
    }
   },
   "outputs": [],
   "source": [
    "batch_size = 1024\n",
    "dl_source = torch.utils.data.DataLoader(ds_source, batch_size)\n",
    "dl_target = torch.utils.data.DataLoader(ds_target, batch_size)\n",
    "\n",
    "# Vamos treinar o mesmo número de lotes de ambos os conjuntos de dados\n",
    "max_batches = min(len(dl_source), len(dl_target))"
   ]
  },
  {
   "cell_type": "code",
   "execution_count": 18,
   "metadata": {
    "scrolled": true,
    "slideshow": {
     "slide_type": "subslide"
    }
   },
   "outputs": [
    {
     "name": "stdout",
     "output_type": "stream",
     "text": [
      "Epoch 0001 / 0001\n",
      "=================\n",
      "[1/58] class_loss: 2.3930 s_domain_loss: 0.5917 t_domain_loss: 0.8492 grl_lambda: 0.000 \n",
      "[2/58] class_loss: 2.2022 s_domain_loss: 0.6275 t_domain_loss: 0.8146 grl_lambda: 0.086 \n",
      "[3/58] class_loss: 2.0432 s_domain_loss: 0.6475 t_domain_loss: 0.7572 grl_lambda: 0.171 \n",
      "[4/58] class_loss: 1.9751 s_domain_loss: 0.6730 t_domain_loss: 0.7350 grl_lambda: 0.253 \n",
      "[5/58] class_loss: 1.8643 s_domain_loss: 0.6947 t_domain_loss: 0.7020 grl_lambda: 0.332 \n",
      "[6/58] class_loss: 1.7871 s_domain_loss: 0.7108 t_domain_loss: 0.6868 grl_lambda: 0.406 \n",
      "[7/58] class_loss: 1.7116 s_domain_loss: 0.7169 t_domain_loss: 0.6739 grl_lambda: 0.476 \n",
      "[8/58] class_loss: 1.6576 s_domain_loss: 0.7133 t_domain_loss: 0.6732 grl_lambda: 0.539 \n",
      "[9/58] class_loss: 1.6038 s_domain_loss: 0.6966 t_domain_loss: 0.6854 grl_lambda: 0.598 \n",
      "[10/58] class_loss: 1.4946 s_domain_loss: 0.6816 t_domain_loss: 0.6931 grl_lambda: 0.650 \n",
      "[11/58] class_loss: 1.4315 s_domain_loss: 0.6682 t_domain_loss: 0.7085 grl_lambda: 0.697 \n",
      "[12/58] class_loss: 1.3991 s_domain_loss: 0.6515 t_domain_loss: 0.7241 grl_lambda: 0.739 \n",
      "[13/58] class_loss: 1.3901 s_domain_loss: 0.6403 t_domain_loss: 0.7361 grl_lambda: 0.776 \n",
      "[14/58] class_loss: 1.3391 s_domain_loss: 0.6319 t_domain_loss: 0.7478 grl_lambda: 0.808 \n",
      "[15/58] class_loss: 1.2922 s_domain_loss: 0.6247 t_domain_loss: 0.7593 grl_lambda: 0.836 \n",
      "[16/58] class_loss: 1.2435 s_domain_loss: 0.6248 t_domain_loss: 0.7632 grl_lambda: 0.860 \n",
      "[17/58] class_loss: 1.1879 s_domain_loss: 0.6257 t_domain_loss: 0.7620 grl_lambda: 0.881 \n",
      "[18/58] class_loss: 1.1559 s_domain_loss: 0.6318 t_domain_loss: 0.7572 grl_lambda: 0.899 \n",
      "[19/58] class_loss: 1.0867 s_domain_loss: 0.6344 t_domain_loss: 0.7532 grl_lambda: 0.914 \n",
      "[20/58] class_loss: 1.0611 s_domain_loss: 0.6467 t_domain_loss: 0.7354 grl_lambda: 0.927 \n",
      "[21/58] class_loss: 1.0355 s_domain_loss: 0.6576 t_domain_loss: 0.7246 grl_lambda: 0.938 \n",
      "Bom, apenas uma demonstração...\n"
     ]
    }
   ],
   "source": [
    "for epoch_idx in range(n_epochs):\n",
    "    print(f'Epoch {epoch_idx+1:04d} / {n_epochs:04d}', end='\\n=================\\n')\n",
    "    dl_source_iter = iter(dl_source)\n",
    "    dl_target_iter = iter(dl_target)\n",
    "\n",
    "    for batch_idx in range(max_batches):\n",
    "        optimizer.zero_grad()        \n",
    "        # Progresso do treinamento e lambda GRL\n",
    "        p = float(batch_idx + epoch_idx * max_batches) / (n_epochs * max_batches)\n",
    "        grl_lambda = 2. / (1. + np.exp(-10 * p)) - 1\n",
    "\n",
    "        # Treino do domínio fonte\n",
    "        X_s, y_s = next(dl_source_iter)\n",
    "        y_s_domain = torch.zeros(batch_size, dtype=torch.long) # rótulos do domínio fonte\n",
    "\n",
    "        class_pred, domain_pred = model(X_s, grl_lambda)\n",
    "        loss_s_label = loss_fn_class(class_pred, y_s)\n",
    "        loss_s_domain = loss_fn_domain(domain_pred, y_s_domain)\n",
    "\n",
    "        # Treino do domínio alvo\n",
    "        X_t, _ = next(dl_target_iter) # ignorando os rótulos\n",
    "        y_t_domain = torch.ones(batch_size, dtype=torch.long) # rótulos do domínio alvo\n",
    "\n",
    "        _, domain_pred = model(X_t, grl_lambda)\n",
    "        loss_t_domain = loss_fn_domain(domain_pred, y_t_domain)\n",
    "        \n",
    "        loss = loss_t_domain + loss_s_domain + loss_s_label\n",
    "        loss.backward()\n",
    "        optimizer.step()\n",
    "        \n",
    "        print(f'[{batch_idx+1}/{max_batches}] '\n",
    "              f'class_loss: {loss_s_label.item():.4f} ' f's_domain_loss: {loss_s_domain.item():.4f} '\n",
    "              f't_domain_loss: {loss_t_domain.item():.4f} ' f'grl_lambda: {grl_lambda:.3f} '\n",
    "             )\n",
    "        if batch_idx == 20:\n",
    "            print('Bom, apenas uma demonstração...')\n",
    "            break"
   ]
  },
  {
   "cell_type": "markdown",
   "metadata": {
    "slideshow": {
     "slide_type": "subslide"
    }
   },
   "source": [
    "### Visualização dos embeddings"
   ]
  },
  {
   "cell_type": "markdown",
   "metadata": {
    "slideshow": {
     "slide_type": "fragment"
    }
   },
   "source": [
    "O espaço das features convolucionais aprendidas pelo modelo.\n",
    "\n",
    "Lembre-se, a perda de confusão de domínio deveria fazer com que as imagens de ambos os domínios parecessem iguais para o classificador."
   ]
  },
  {
   "cell_type": "markdown",
   "metadata": {
    "slideshow": {
     "slide_type": "fragment"
    }
   },
   "source": [
    "<img src=\"img/ganin_da3.png\" width=\"1400\"/>"
   ]
  },
  {
   "cell_type": "markdown",
   "metadata": {
    "slideshow": {
     "slide_type": "skip"
    }
   },
   "source": [
    "**Créditos de imagens**\n",
    "\n",
    "Algumas imagens neste tutorial foram tiradas e/ou adaptadas de:\n",
    "\n",
    "- Pan & Yang, 2010, A Survey on Transfer Learning\n",
    "- Zeiler & Fergus, 2013, Visualizing and Understanding Convolutional Networks\n",
    "- Y. Ganin et al. 2015, Unsupervised Domain Adaptation by Backpropagation \n",
    "- M. Wulfmeier et al., https://arxiv.org/abs/1703.01461v2\n",
    "- Sebastian Ruder, http://ruder.io/"
   ]
  }
 ],
 "metadata": {
  "celltoolbar": "Slideshow",
  "kernelspec": {
   "display_name": "Python 3",
   "language": "python",
   "name": "python3"
  },
  "language_info": {
   "codemirror_mode": {
    "name": "ipython",
    "version": 3
   },
   "file_extension": ".py",
   "mimetype": "text/x-python",
   "name": "python",
   "nbconvert_exporter": "python",
   "pygments_lexer": "ipython3",
   "version": "3.10.12"
  }
 },
 "nbformat": 4,
 "nbformat_minor": 2
}
