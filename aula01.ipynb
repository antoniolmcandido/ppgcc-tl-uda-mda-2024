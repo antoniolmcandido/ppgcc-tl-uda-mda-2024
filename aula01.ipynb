{
 "cells": [
  {
   "cell_type": "markdown",
   "metadata": {
    "slideshow": {
     "slide_type": "slide"
    }
   },
   "source": [
    "#### [PPGCC / LADESC] MDA 2024\n",
    "##### Aprendizagem de transferência (TL - Transfer Learning) e Adaptação de Domínio"
   ]
  },
  {
   "cell_type": "markdown",
   "metadata": {
    "slideshow": {
     "slide_type": "subslide"
    }
   },
   "source": [
    "##### Introdução\n",
    "\n",
    "Neste tutorial, abordaremos:\n",
    "\n",
    "- Contexto(s) de aprendizagem de transferência\n",
    "- Aproveitamento de modelos pré-treinados\n",
    "- Adaptação de domínio não supervisionada"
   ]
  },
  {
   "cell_type": "markdown",
   "metadata": {
    "slideshow": {
     "slide_type": "slide"
    }
   },
   "source": "##### Lembretes da teoria"
  },
  {
   "cell_type": "markdown",
   "metadata": {
    "slideshow": {
     "slide_type": "subslide"
    }
   },
   "source": [
    "##### O contexto de aprendizagem supervisionada"
   ]
  },
  {
   "cell_type": "markdown",
   "metadata": {
    "slideshow": {
     "slide_type": "fragment"
    }
   },
   "source": [
    "Temos um conjunto de dados rotulado de $N$ amostras rotuladas: $\\left\\{ (\\vec{x}^i,y^i) \\right\\}_{i=1}^N$, onde\n",
    "- $\\vec{x}^i = \\left(x^i_1, \\dots, x^i_D\\right) \\in \\mathcal{X}$ é uma **amostra** ou **vetor de características**.\n",
    "- $y^i \\in \\mathcal{Y}$ é o **rótulo**.\n",
    "- Para classificação com $C$ classes, $\\mathcal{Y} = \\{0,\\dots,C-1\\}$, então cada $y^i$ é um **rótulo de classe**.\n",
    "- Normalmente, assumimos que cada amostra rotulada $(\\vec{x}^i,y^i)$\n",
    "é extraída de uma distribuição conjunta\n",
    "$$P(X|Y)=P(X)\\cdot P(Y|X)$$\n",
    "- Assumimos que alguma distribuição marginal de amostra $P(X)$ existe.\n",
    "- Queremos aprender $P(Y|X)$ a partir dos dados."
   ]
  },
  {
   "cell_type": "markdown",
   "metadata": {
    "slideshow": {
     "slide_type": "subslide"
    }
   },
   "source": [
    "Até agora, consideramos principalmente a configuração tradicional de **aprendizado supervisionado**:\n",
    "\n",
    "Assumimos que os conjuntos de **treinamento** e **teste** (que supostamente representam dados futuros não vistos)\n",
    "são ambos da mesma **distribuição** e ambos rotulados.\n",
    "\n",
    "Conseguimos assumir isso porque queríamos resolver uma tarefa com um conjunto de dados e poderíamos\n",
    "portanto, dividir nosso conjunto de dados em tais conjuntos.\n",
    "\n",
    "O que acontece quando esse não é o caso?"
   ]
  },
  {
   "cell_type": "markdown",
   "metadata": {
    "slideshow": {
     "slide_type": "slide"
    }
   },
   "source": [
    "##### Transfer learning (Aprendizagem de transferência)\n",
    "\n",
    "No mundo real, muitas vezes não temos o conjunto de treinamento perfeito para o nosso problema.\n",
    "\n",
    "O que devemos fazer quando a suposição de aprendizado supervisionado é inválida?\n",
    "\n",
    "<img src=\"./img/transfer_learning_digits.png\" width=\"700\"/>"
   ]
  },
  {
   "cell_type": "markdown",
   "metadata": {
    "slideshow": {
     "slide_type": "subslide"
    }
   },
   "source": [
    "##### Domínios e tarefas"
   ]
  },
  {
   "cell_type": "markdown",
   "metadata": {
    "slideshow": {
     "slide_type": "fragment"
    }
   },
   "source": [
    "Vamos começar com algumas definições para explicar o problema.\n",
    "\n",
    "- Imagine que temos um **espaço de características**, $\\mathcal{X}$\n",
    "- Por exemplo, $\\mathcal{X}$ é o espaço de imagens coloridas de tamanho 32x32, cada pixel no intervalo de 0-255"
   ]
  },
  {
   "cell_type": "code",
   "metadata": {
    "slideshow": {
     "slide_type": "fragment"
    },
    "ExecuteTime": {
     "end_time": "2024-10-09T22:03:12.523013Z",
     "start_time": "2024-10-09T22:03:12.509129Z"
    }
   },
   "source": [
    "import math\n",
    "# tamanho deste espaço de recurso \"limitado\"\n",
    "print(f'10^{math.log10(256**(32**2*3))}')"
   ],
   "outputs": [
    {
     "name": "stdout",
     "output_type": "stream",
     "text": [
      "10^7398.1131734380015\n"
     ]
    }
   ],
   "execution_count": 55
  },
  {
   "cell_type": "markdown",
   "metadata": {},
   "source": [
    "- Como de costume, temos um conjunto de treinamento $X=\\{\\vec{x}^{(i)}\\}_{i=1}^{N},\\ \\vec{x}^{(i)}\\in\\mathcal{X}$.\n",
    "- Por exemplo, CIFAR-10\n",
    "\n",
    "<img src=\"img/cifar10.png\" width=\"700\"/>"
   ]
  },
  {
   "cell_type": "markdown",
   "metadata": {
    "slideshow": {
     "slide_type": "subslide"
    }
   },
   "source": [
    "- Existe alguma **distribuição de probabilidade** $P(X)$ (também conhecida como $P_{X}(\\vec{x})$) sobre nosso conjunto de treinamento.\n",
    "    - Note que não nos importamos com a distribuição sobre $\\mathcal{X}$.\n",
    "    - Por exemplo, se $X$ for CIFAR-10, a probabilidade de uma imagem toda preta deve ser muito baixa\n",
    "    - Se as classes forem desbalanceadas, probabilidades muito diferentes para membros de classes grandes e pequenas\n",
    "\n",
    "    <img src=\"img/data_dist.jpg\" width=\"800\"/>"
   ]
  },
  {
   "cell_type": "markdown",
   "metadata": {
    "slideshow": {
     "slide_type": "subslide"
    }
   },
   "source": [
    "- Nosso **espaço de rótulos**, $\\mathcal{Y}$ inclui os rótulos possíveis para amostra em nosso problema.\n",
    "    - Por exemplo $\\mathcal{Y}=\\{0,1\\}$ em classificação binária.\n",
    "    - Podemos ter também $Y = \\{y^{(i)}\\}_{i=1}^{N}$, o conjunto de rótulos para nosso conjunto de dados."
   ]
  },
  {
   "cell_type": "markdown",
   "metadata": {
    "slideshow": {
     "slide_type": "fragment"
    }
   },
   "source": [
    "- Queremos aprender a função alvo $\\hat{y}=f(\\vec{x})$ que prevê um rótulo dada uma imagem.\n",
    "    - Da perspectiva probabilística, aprenda $P(\\hat{y}|\\vec{x})$."
   ]
  },
  {
   "cell_type": "markdown",
   "metadata": {
    "slideshow": {
     "slide_type": "fragment"
    }
   },
   "source": [
    "- Finalmente,\n",
    "    - Um **domínio** de aprendizagem $\\mathcal{D}$, é definido como $\\mathcal{D}=\\left\\{\\mathcal{X},P(X)\\right\\}$.\n",
    "    - Uma **tarefa** de aprendizagem $\\mathcal{T}$ é definida como $\\mathcal{T}=\\{\\mathcal{Y},P(Y|X)\\}$."
   ]
  },
  {
   "cell_type": "markdown",
   "metadata": {
    "slideshow": {
     "slide_type": "slide"
    }
   },
   "source": [
    "##### Configurações do Transfer Learning"
   ]
  },
  {
   "cell_type": "markdown",
   "metadata": {
    "slideshow": {
     "slide_type": "subslide"
    }
   },
   "source": [
    "**Definição** (Pan & Yang, 2010):\n",
    "\n",
    "Dado\n",
    "- Um domínio de **origem** $\\mathcal{D}_S$ (source) e a tarefa de aprendizagem $\\mathcal{T}_S$\n",
    "- Um domínio de **alvo** $\\mathcal{D}_T$ (target) e a tarefa de aprendizagem $\\mathcal{T}_T$\n",
    "\n",
    "*A aprendizagem por transferência* visa melhorar a aprendizagem da função alvo\n",
    "usando *conhecimento* em $\\mathcal{D}_S$ e $\\mathcal{T}_S$, quando\n",
    "- $\\mathcal{D}_S \\neq \\mathcal{D}_T$, ou\n",
    "- $\\mathcal{T}_S \\neq \\mathcal{T}_T$\n",
    "\n",
    "Normalmente também há outras restrições no domínio alvo, como poucos ou nenhum rótulo disponível."
   ]
  },
  {
   "cell_type": "markdown",
   "metadata": {
    "slideshow": {
     "slide_type": "subslide"
    }
   },
   "source": [
    "Quando $\\mathcal{D}_S=\\mathcal{D}_T$ e $\\mathcal{T}_S=\\mathcal{T}_T$ estamos no cenário regular de aprendizado supervisionado\n",
    "que vimos até agora.\n",
    "\n",
    "Por exemplo, dividindo o CIFAR-10 aleatoriamente em um conjunto de treinamento e teste."
   ]
  },
  {
   "cell_type": "markdown",
   "metadata": {
    "slideshow": {
     "slide_type": "subslide"
    }
   },
   "source": "##### Mesmo domínio, tarefa diferente"
  },
  {
   "cell_type": "markdown",
   "metadata": {
    "slideshow": {
     "slide_type": "fragment"
    }
   },
   "source": [
    "Lembre-se, uma **tarefa** de aprendizado $\\mathcal{T}$ é definida como $\\mathcal{T}=\\{\\mathcal{Y},P(Y|X)\\}$.\n",
    "\n",
    "Então há dois casos (não mutuamente exclusivos)."
   ]
  },
  {
   "cell_type": "markdown",
   "metadata": {
    "slideshow": {
     "slide_type": "subslide"
    }
   },
   "source": [
    "Caso 1: Os espaços de rótulo são diferentes, $\\mathcal{Y}_S \\neq \\mathcal{Y}_T$\n",
    "\n",
    "Por exemplo, o domínio alvo tem mais classes.\n",
    "\n",
    "<img src=\"img/cifar10_100.png\" width=\"900\"/>"
   ]
  },
  {
   "cell_type": "markdown",
   "metadata": {
    "slideshow": {
     "slide_type": "subslide"
    }
   },
   "source": [
    "Caso 2: As distribuições condicionais do alvo são diferentes, $P(Y_S|X_S)\\neq P(Y_T|X_T)$.\n",
    "\n",
    "Este pode ser o caso quando o equilíbrio de classe é muito diferente nas distribuições de origem e de destino."
   ]
  },
  {
   "cell_type": "markdown",
   "metadata": {
    "slideshow": {
     "slide_type": "subslide"
    }
   },
   "source": [
    "##### Mesma tarefa, domínio diferente"
   ]
  },
  {
   "cell_type": "markdown",
   "metadata": {
    "slideshow": {
     "slide_type": "fragment"
    }
   },
   "source": [
    "Lembre-se, um **domínio** de aprendizagem $\\mathcal{D}$, é definido como $\\mathcal{D}=\\left\\{\\mathcal{X},P(X)\\right\\}$.\n",
    "\n",
    "Novamente, dois casos."
   ]
  },
  {
   "cell_type": "markdown",
   "metadata": {
    "slideshow": {
     "slide_type": "fragment"
    }
   },
   "source": [
    "Caso 1: Diferentes espaços de características, $\\mathcal{X}_S \\neq \\mathcal{X}_T$.\n",
    "\n",
    "Por exemplo: $\\mathcal{X}_S$ é um espaço de imagens em tons de cinza enquanto $\\mathcal{X}_T$ é um espaço de imagens coloridas;\n",
    "documentos em diferentes idiomas."
   ]
  },
  {
   "cell_type": "markdown",
   "metadata": {
    "slideshow": {
     "slide_type": "subslide"
    }
   },
   "source": [
    "Caso 2: Distribuições de dados diferentes, $P(X_S)\\neq P(X_T)$.\n",
    "\n",
    "Por exemplo: o domínio de origem contém imagens desenhadas à mão, enquanto o domínio de destino contém fotografias;\n",
    "documentos no mesmo idioma sobre tópicos diferentes.\n",
    "\n",
    "<img src=\"img/tl_example.png\" width=\"400\"/>\n",
    "\n",
    "Este é um cenário muito comum e geralmente chamado de **adaptação de domínio**."
   ]
  },
  {
   "cell_type": "markdown",
   "metadata": {
    "slideshow": {
     "slide_type": "subslide"
    }
   },
   "source": [
    "TL é um campo de pesquisa enorme, divido em:\n",
    "\n",
    "<img src=\"img/pan_yang.png\" width=\"1000\" />\n",
    "\n",
    "Neste tutorial, veremos dois exemplos simples, mas comuns."
   ]
  },
  {
   "cell_type": "markdown",
   "metadata": {
    "slideshow": {
     "slide_type": "slide"
    }
   },
   "source": [
    "##### Parte 1: Ajuste fino de um modelo pré-treinado"
   ]
  },
  {
   "cell_type": "markdown",
   "metadata": {
    "slideshow": {
     "slide_type": "fragment"
    }
   },
   "source": [
    "Nós treinamos um modelo em um domínio de origem,\n",
    "e agora queremos usá-lo para acelerar o treinamento para um domínio diferente.\n",
    "\n",
    "Em algumas aplicações, podemos ter muito menos dados rotulados no domínio alvo, tornando inviável treinar um modelo profundo do zero."
   ]
  },
  {
   "cell_type": "markdown",
   "metadata": {
    "slideshow": {
     "slide_type": "subslide"
    }
   },
   "source": [
    "Exemplo comum: pré-treinar no ImageNet (1M+ imagens, 1000 classes) e então classificar, por exemplo, imagens médicas.\n",
    "\n",
    "<img src=\"img/transfer-learning-medical.png\" width=\"700\" />"
   ]
  },
  {
   "cell_type": "markdown",
   "metadata": {
    "slideshow": {
     "slide_type": "subslide"
    }
   },
   "source": [
    "Por que isso funcionaria?"
   ]
  },
  {
   "cell_type": "markdown",
   "metadata": {
    "slideshow": {
     "slide_type": "fragment"
    }
   },
   "source": [
    "CNNs capturam características hierárquicas, com camadas mais profundas capturando características de nível superior e específicas de classe\n",
    "(Zeiler & Fergus, 2013).\n",
    "\n",
    "<img src=\"img/zf1.png\" width=\"900\"/>"
   ]
  },
  {
   "cell_type": "markdown",
   "metadata": {
    "slideshow": {
     "slide_type": "subslide"
    }
   },
   "source": [
    "<img src=\"img/zf2.png\" width=\"1400\"/>"
   ]
  },
  {
   "cell_type": "markdown",
   "metadata": {
    "slideshow": {
     "slide_type": "subslide"
    }
   },
   "source": [
    "- Portanto, podemos começar de um modelo pré-treinado e,\n",
    "    - \"Ajustar\" os filtros convolucionais, principalmente nas camadas mais profundas.\n",
    "    - Alterar o classificador (ou removê-lo completamente) para se adequar à nossa tarefa e treiná-lo do zero."
   ]
  },
  {
   "metadata": {
    "ExecuteTime": {
     "end_time": "2024-10-09T22:03:12.647252Z",
     "start_time": "2024-10-09T22:03:12.632011Z"
    }
   },
   "cell_type": "code",
   "source": [
    "# Setup\n",
    "import numpy as np\n",
    "import matplotlib.pyplot as plt\n",
    "%matplotlib inline\n",
    "import os\n",
    "import sys\n",
    "import torch\n",
    "# remove warnings\n",
    "import warnings\n",
    "\n",
    "warnings.filterwarnings(\"ignore\")\n",
    "\n",
    "plt.rcParams['font.size'] = 20\n",
    "data_dir = os.path.expanduser('D:/Downloads/mda-datasets')\n",
    "device = torch.device('cuda' if torch.cuda.is_available() else 'cpu')\n",
    "device"
   ],
   "outputs": [
    {
     "data": {
      "text/plain": [
       "device(type='cpu')"
      ]
     },
     "execution_count": 56,
     "metadata": {},
     "output_type": "execute_result"
    }
   ],
   "execution_count": 56
  },
  {
   "cell_type": "code",
   "metadata": {
    "scrolled": true,
    "slideshow": {
     "slide_type": "subslide"
    },
    "ExecuteTime": {
     "end_time": "2024-10-09T22:03:12.881396Z",
     "start_time": "2024-10-09T22:03:12.649268Z"
    }
   },
   "source": [
    "import torchvision as tv\n",
    "\n",
    "# Carregando uma CNN profunda pré-treinada no ImageNet\n",
    "# Usando ResNet18, para reduzir o tamanho do download, se necessário use algo mais profundo\n",
    "resnet18 = tv.models.resnet18(pretrained=True)\n",
    "resnet18"
   ],
   "outputs": [
    {
     "data": {
      "text/plain": [
       "ResNet(\n",
       "  (conv1): Conv2d(3, 64, kernel_size=(7, 7), stride=(2, 2), padding=(3, 3), bias=False)\n",
       "  (bn1): BatchNorm2d(64, eps=1e-05, momentum=0.1, affine=True, track_running_stats=True)\n",
       "  (relu): ReLU(inplace=True)\n",
       "  (maxpool): MaxPool2d(kernel_size=3, stride=2, padding=1, dilation=1, ceil_mode=False)\n",
       "  (layer1): Sequential(\n",
       "    (0): BasicBlock(\n",
       "      (conv1): Conv2d(64, 64, kernel_size=(3, 3), stride=(1, 1), padding=(1, 1), bias=False)\n",
       "      (bn1): BatchNorm2d(64, eps=1e-05, momentum=0.1, affine=True, track_running_stats=True)\n",
       "      (relu): ReLU(inplace=True)\n",
       "      (conv2): Conv2d(64, 64, kernel_size=(3, 3), stride=(1, 1), padding=(1, 1), bias=False)\n",
       "      (bn2): BatchNorm2d(64, eps=1e-05, momentum=0.1, affine=True, track_running_stats=True)\n",
       "    )\n",
       "    (1): BasicBlock(\n",
       "      (conv1): Conv2d(64, 64, kernel_size=(3, 3), stride=(1, 1), padding=(1, 1), bias=False)\n",
       "      (bn1): BatchNorm2d(64, eps=1e-05, momentum=0.1, affine=True, track_running_stats=True)\n",
       "      (relu): ReLU(inplace=True)\n",
       "      (conv2): Conv2d(64, 64, kernel_size=(3, 3), stride=(1, 1), padding=(1, 1), bias=False)\n",
       "      (bn2): BatchNorm2d(64, eps=1e-05, momentum=0.1, affine=True, track_running_stats=True)\n",
       "    )\n",
       "  )\n",
       "  (layer2): Sequential(\n",
       "    (0): BasicBlock(\n",
       "      (conv1): Conv2d(64, 128, kernel_size=(3, 3), stride=(2, 2), padding=(1, 1), bias=False)\n",
       "      (bn1): BatchNorm2d(128, eps=1e-05, momentum=0.1, affine=True, track_running_stats=True)\n",
       "      (relu): ReLU(inplace=True)\n",
       "      (conv2): Conv2d(128, 128, kernel_size=(3, 3), stride=(1, 1), padding=(1, 1), bias=False)\n",
       "      (bn2): BatchNorm2d(128, eps=1e-05, momentum=0.1, affine=True, track_running_stats=True)\n",
       "      (downsample): Sequential(\n",
       "        (0): Conv2d(64, 128, kernel_size=(1, 1), stride=(2, 2), bias=False)\n",
       "        (1): BatchNorm2d(128, eps=1e-05, momentum=0.1, affine=True, track_running_stats=True)\n",
       "      )\n",
       "    )\n",
       "    (1): BasicBlock(\n",
       "      (conv1): Conv2d(128, 128, kernel_size=(3, 3), stride=(1, 1), padding=(1, 1), bias=False)\n",
       "      (bn1): BatchNorm2d(128, eps=1e-05, momentum=0.1, affine=True, track_running_stats=True)\n",
       "      (relu): ReLU(inplace=True)\n",
       "      (conv2): Conv2d(128, 128, kernel_size=(3, 3), stride=(1, 1), padding=(1, 1), bias=False)\n",
       "      (bn2): BatchNorm2d(128, eps=1e-05, momentum=0.1, affine=True, track_running_stats=True)\n",
       "    )\n",
       "  )\n",
       "  (layer3): Sequential(\n",
       "    (0): BasicBlock(\n",
       "      (conv1): Conv2d(128, 256, kernel_size=(3, 3), stride=(2, 2), padding=(1, 1), bias=False)\n",
       "      (bn1): BatchNorm2d(256, eps=1e-05, momentum=0.1, affine=True, track_running_stats=True)\n",
       "      (relu): ReLU(inplace=True)\n",
       "      (conv2): Conv2d(256, 256, kernel_size=(3, 3), stride=(1, 1), padding=(1, 1), bias=False)\n",
       "      (bn2): BatchNorm2d(256, eps=1e-05, momentum=0.1, affine=True, track_running_stats=True)\n",
       "      (downsample): Sequential(\n",
       "        (0): Conv2d(128, 256, kernel_size=(1, 1), stride=(2, 2), bias=False)\n",
       "        (1): BatchNorm2d(256, eps=1e-05, momentum=0.1, affine=True, track_running_stats=True)\n",
       "      )\n",
       "    )\n",
       "    (1): BasicBlock(\n",
       "      (conv1): Conv2d(256, 256, kernel_size=(3, 3), stride=(1, 1), padding=(1, 1), bias=False)\n",
       "      (bn1): BatchNorm2d(256, eps=1e-05, momentum=0.1, affine=True, track_running_stats=True)\n",
       "      (relu): ReLU(inplace=True)\n",
       "      (conv2): Conv2d(256, 256, kernel_size=(3, 3), stride=(1, 1), padding=(1, 1), bias=False)\n",
       "      (bn2): BatchNorm2d(256, eps=1e-05, momentum=0.1, affine=True, track_running_stats=True)\n",
       "    )\n",
       "  )\n",
       "  (layer4): Sequential(\n",
       "    (0): BasicBlock(\n",
       "      (conv1): Conv2d(256, 512, kernel_size=(3, 3), stride=(2, 2), padding=(1, 1), bias=False)\n",
       "      (bn1): BatchNorm2d(512, eps=1e-05, momentum=0.1, affine=True, track_running_stats=True)\n",
       "      (relu): ReLU(inplace=True)\n",
       "      (conv2): Conv2d(512, 512, kernel_size=(3, 3), stride=(1, 1), padding=(1, 1), bias=False)\n",
       "      (bn2): BatchNorm2d(512, eps=1e-05, momentum=0.1, affine=True, track_running_stats=True)\n",
       "      (downsample): Sequential(\n",
       "        (0): Conv2d(256, 512, kernel_size=(1, 1), stride=(2, 2), bias=False)\n",
       "        (1): BatchNorm2d(512, eps=1e-05, momentum=0.1, affine=True, track_running_stats=True)\n",
       "      )\n",
       "    )\n",
       "    (1): BasicBlock(\n",
       "      (conv1): Conv2d(512, 512, kernel_size=(3, 3), stride=(1, 1), padding=(1, 1), bias=False)\n",
       "      (bn1): BatchNorm2d(512, eps=1e-05, momentum=0.1, affine=True, track_running_stats=True)\n",
       "      (relu): ReLU(inplace=True)\n",
       "      (conv2): Conv2d(512, 512, kernel_size=(3, 3), stride=(1, 1), padding=(1, 1), bias=False)\n",
       "      (bn2): BatchNorm2d(512, eps=1e-05, momentum=0.1, affine=True, track_running_stats=True)\n",
       "    )\n",
       "  )\n",
       "  (avgpool): AdaptiveAvgPool2d(output_size=(1, 1))\n",
       "  (fc): Linear(in_features=512, out_features=1000, bias=True)\n",
       ")"
      ]
     },
     "execution_count": 57,
     "metadata": {},
     "output_type": "execute_result"
    }
   ],
   "execution_count": 57
  },
  {
   "cell_type": "code",
   "metadata": {
    "slideshow": {
     "slide_type": "subslide"
    },
    "ExecuteTime": {
     "end_time": "2024-10-09T22:03:12.896927Z",
     "start_time": "2024-10-09T22:03:12.883398Z"
    }
   },
   "source": [
    "# Congelando todas as camadas: desabilitar o rastreamento de gradiente\n",
    "for p in resnet18.parameters():\n",
    "    p.requires_grad = False"
   ],
   "outputs": [],
   "execution_count": 58
  },
  {
   "cell_type": "code",
   "metadata": {
    "slideshow": {
     "slide_type": "fragment"
    },
    "ExecuteTime": {
     "end_time": "2024-10-09T22:03:12.911926Z",
     "start_time": "2024-10-09T22:03:12.898925Z"
    }
   },
   "source": [
    "# Descongelando a última camada (ou o que for relevante para você)\n",
    "for p in resnet18.layer4.parameters():\n",
    "    p.requires_grad = True"
   ],
   "outputs": [],
   "execution_count": 59
  },
  {
   "cell_type": "code",
   "metadata": {
    "slideshow": {
     "slide_type": "fragment"
    },
    "ExecuteTime": {
     "end_time": "2024-10-09T22:03:12.926927Z",
     "start_time": "2024-10-09T22:03:12.913923Z"
    }
   },
   "source": [
    "import torch.optim\n",
    "\n",
    "# Outra maneira de congelar: taxas de aprendizagem zero para parâmetros específicos\n",
    "opt = torch.optim.SGD([\n",
    "    dict(params=resnet18.layer1.parameters(), lr=0),\n",
    "    dict(params=resnet18.layer2.parameters(), lr=0),\n",
    "    dict(params=resnet18.layer3.parameters(), lr=0),\n",
    "    dict(params=resnet18.layer4.parameters(), lr=1e-4),\n",
    "    dict(params=resnet18.fc.parameters()),\n",
    "], lr=1e-2, momentum=0.9)"
   ],
   "outputs": [],
   "execution_count": 60
  },
  {
   "cell_type": "code",
   "metadata": {
    "slideshow": {
     "slide_type": "subslide"
    },
    "ExecuteTime": {
     "end_time": "2024-10-09T22:03:12.942439Z",
     "start_time": "2024-10-09T22:03:12.927927Z"
    }
   },
   "source": [
    "import torch.nn as nn\n",
    "\n",
    "# Substituir a parte totalmente conectada por algum outro classificador, por exemplo:\n",
    "\n",
    "cnn_features = resnet18.fc.in_features\n",
    "num_classes = 13\n",
    "\n",
    "resnet18.fc =  nn.Sequential(\n",
    "    nn.Linear(cnn_features, 100, bias=True),\n",
    "    nn.ReLU(),\n",
    "    nn.Linear(100, num_classes, bias=True),\n",
    ")"
   ],
   "outputs": [],
   "execution_count": 61
  },
  {
   "cell_type": "code",
   "metadata": {
    "slideshow": {
     "slide_type": "subslide"
    },
    "ExecuteTime": {
     "end_time": "2024-10-09T22:03:14.488697Z",
     "start_time": "2024-10-09T22:03:12.944442Z"
    }
   },
   "source": [
    "import torchvision.transforms as tvtf\n",
    "\n",
    "# Importante: precisamos dimensionar nossos dados da mesma forma que os dados de treinamento do ImageNet\n",
    "tf = tvtf.Compose([\n",
    "    tvtf.Resize(224),\n",
    "    tvtf.ToTensor(),\n",
    "    tvtf.Normalize(mean=[0.485, 0.456, 0.406], std=[0.229, 0.224, 0.225]),\n",
    "])\n",
    "\n",
    "# Carregando os dados do domínio alvo (CIFAR-10 usado apenas como um exemplo simples)\n",
    "ds_train = tv.datasets.CIFAR10(root=data_dir, download=True, train=True, transform=tf)\n",
    "ds_test = tv.datasets.CIFAR10(root=data_dir, download=True, train=False, transform=tf)\n",
    "\n",
    "batch_size = 8\n",
    "dl_train = torch.utils.data.DataLoader(ds_train, batch_size, shuffle=True, num_workers=2)\n",
    "dl_test = torch.utils.data.DataLoader(ds_test, batch_size, shuffle=True, num_workers=2)"
   ],
   "outputs": [
    {
     "name": "stdout",
     "output_type": "stream",
     "text": [
      "Files already downloaded and verified\n",
      "Files already downloaded and verified\n"
     ]
    }
   ],
   "execution_count": 62
  },
  {
   "cell_type": "code",
   "metadata": {
    "slideshow": {
     "slide_type": "fragment"
    },
    "ExecuteTime": {
     "end_time": "2024-10-09T22:03:14.550736Z",
     "start_time": "2024-10-09T22:03:14.489697Z"
    }
   },
   "source": [
    "resnet18(ds_train[0][0].unsqueeze(dim=0))"
   ],
   "outputs": [
    {
     "data": {
      "text/plain": [
       "tensor([[-0.1595,  0.2325,  0.0834,  0.2905, -0.1117, -0.0960, -0.1420,  0.1619,\n",
       "         -0.0622, -0.2033,  0.0857, -0.4278,  0.1981]],\n",
       "       grad_fn=<AddmmBackward0>)"
      ]
     },
     "execution_count": 63,
     "metadata": {},
     "output_type": "execute_result"
    }
   ],
   "execution_count": 63
  },
  {
   "cell_type": "code",
   "metadata": {
    "slideshow": {
     "slide_type": "subslide"
    },
    "ExecuteTime": {
     "end_time": "2024-10-09T22:03:14.565734Z",
     "start_time": "2024-10-09T22:03:14.553739Z"
    }
   },
   "source": [
    "import torch.optim as optim\n",
    "\n",
    "# Importante: Somente parâmetros que rastreiam gradientes podem ser passados para o otimizador\n",
    "params_non_frozen = filter(lambda p: p.requires_grad, resnet18.parameters())\n",
    "opt = optim.SGD(params_non_frozen, lr=0.05, momentum=0.9)\n",
    "\n",
    "# O ajuste fino geralmente significa que queremos taxas de aprendizado menores do que o normal e\n",
    "# decaindo-as para continuar melhorando os pesos\n",
    "lr_sched = optim.lr_scheduler.ReduceLROnPlateau(opt, factor=0.05, patience=5,)\n",
    "\n",
    "loss_fn = nn.CrossEntropyLoss()\n",
    "\n",
    "def train(model, loss_fn, opt, lr_sched, dl_train, dl_test):\n",
    "    # Assim como no treinamento regular do classificador, basta chamar lr_scheduler.step() a cada época.\n",
    "    \n",
    "    for epoch in range(10):\n",
    "        \n",
    "        model.train()\n",
    "        for x, y in dl_train:\n",
    "            x, y = x.to(device), y.to(device)\n",
    "            opt.zero_grad()\n",
    "            y_pred = model(x)\n",
    "            loss = loss_fn(y_pred, y)\n",
    "            loss.backward()\n",
    "            opt.step()\n",
    "        \n",
    "        model.eval()\n",
    "        with torch.no_grad():\n",
    "            test_loss = 0\n",
    "            correct = 0\n",
    "            total = 0\n",
    "            for x, y in dl_test:\n",
    "                x, y = x.to(device), y.to(device)\n",
    "                y_pred = model(x)\n",
    "                loss = loss_fn(y_pred, y)\n",
    "                test_loss += loss.item()\n",
    "                _, predicted = y_pred.max(1)\n",
    "                total += y.size(0)\n",
    "                correct += predicted.eq(y).sum().item()\n",
    "            lr_sched.step(test_loss)\n",
    "            print(f'Epoch {epoch}: Loss: {test_loss/len(dl_test)}, Accuracy: {correct/total}')"
   ],
   "outputs": [],
   "execution_count": 64
  },
  {
   "cell_type": "markdown",
   "metadata": {
    "slideshow": {
     "slide_type": "slide"
    }
   },
   "source": "##### Parte 2: Adaptação de domínio não supervisionada"
  },
  {
   "cell_type": "markdown",
   "metadata": {
    "slideshow": {
     "slide_type": "subslide"
    }
   },
   "source": [
    "Vamos considerar um problema com domínios diferentes, mas uma tarefa idêntica:\n",
    "\n",
    "- Domínio de origem: MNIST\n",
    "- Domínio de destino: MNIST-M, uma versão colorida e texturizada do MNIST\n",
    "\n",
    "A tarefa em ambos os casos é a classificação usual de 10 dígitos de classe.\n",
    "\n",
    "<img src=\"img/mnist_m.png\" />"
   ]
  },
  {
   "metadata": {},
   "cell_type": "markdown",
   "source": [
    "##### Exemplo de UDA com treinamento adversarial\n",
    "> DANN (Ganin et al. 2015) - Domain-Adversarial Training of Neural Networks"
   ]
  },
  {
   "cell_type": "markdown",
   "metadata": {
    "slideshow": {
     "slide_type": "fragment"
    }
   },
   "source": [
    "Configuração de DA **Não supervisionado**:\n",
    "\n",
    "Presumimos que não há **rótulos disponíveis** para o domínio alvo."
   ]
  },
  {
   "cell_type": "markdown",
   "metadata": {
    "slideshow": {
     "slide_type": "subslide"
    }
   },
   "source": [
    "Precisamos forçar uma CNN a aprender características das formas dos dígitos apenas, não das distribuições de cores.\n",
    "\n",
    "A abordagem, (com base em Ganin et al. 2015):"
   ]
  },
  {
   "cell_type": "markdown",
   "metadata": {
    "slideshow": {
     "slide_type": "subslide"
    }
   },
   "source": [
    "- Treinar um classificador para o **domínio** de uma imagem com base em recursos convolucionais profundos.\n",
    "    - Tentar maximizar a perda do classificador ```domain classifier``` ao treinar a CNN (**perda de confusão** - $Loss$ $L_D$).\n",
    "    - Simultaneamente, minimizar a perda de classificação do ```label predictor``` no domínio de origem (**perda de rótulos** - $Loss$ $L_y$). usando os mesmos recursos convolucionais.\n",
    "- Treinar o classificador de dígitos com dados do domínio de origem e o classificador de domínio com dados de ambos os domínios.\n",
    "\n",
    "<img src=\"img/ganin_da.png\" width=\"1400\" />"
   ]
  },
  {
   "metadata": {},
   "cell_type": "markdown",
   "source": [
    "$$\n",
    "L_{total} = \\frac{1}{n} \\sum_{i=1}^{n} L_y^i (\\theta_f,\\theta_y) - \\lambda \\left( \\frac{1}{n} \\sum_{i=1}^{n} L_d^i (\\theta_f,\\theta_d) + \\frac{1}{n^\\prime} \\sum_{i=1}^{n^\\prime} L_d^i (\\theta_f,\\theta_d) \\right).\n",
    "$$"
   ]
  },
  {
   "cell_type": "markdown",
   "metadata": {
    "slideshow": {
     "slide_type": "subslide"
    }
   },
   "source": [
    "##### Dados de domínio fonte e alvo"
   ]
  },
  {
   "cell_type": "markdown",
   "metadata": {
    "slideshow": {
     "slide_type": "skip"
    }
   },
   "source": [
    "Observação: para que o próximo bloco seja executado, você deve [baixar](https://1drv.ms/u/c/1ce6b4820c5c5590/EXf0iwWLDdFPn9pxMxqSPugB9vrtoWygqlEzfJ9ws8vQjw?e=JrIcf2) manualmente o conjunto de dados MNIST-M e descompactá-lo em `data_dir` que você definiu no início deste notebook."
   ]
  },
  {
   "cell_type": "code",
   "metadata": {
    "slideshow": {
     "slide_type": "fragment"
    },
    "ExecuteTime": {
     "end_time": "2024-10-09T22:03:14.643780Z",
     "start_time": "2024-10-09T22:03:14.566736Z"
    }
   },
   "source": [
    "from utils.data import MNISTMDataset  # Importa a classe MNISTMDataset do módulo utils.data\n",
    "\n",
    "image_size = 28  # Define o tamanho da imagem\n",
    "batch_size = 4  # Define o tamanho do lote\n",
    "\n",
    "# Define as transformações para o domínio fonte (MNIST)\n",
    "tf_source = tvtf.Compose([\n",
    "    tvtf.Resize(image_size),  # Redimensiona a imagem para 28x28 pixels\n",
    "    tvtf.ToTensor(),  # Converte a imagem para um tensor\n",
    "    tvtf.Normalize(mean=(0.1307,), std=(0.3081,))  # Normaliza a imagem com a média e desvio padrão do MNIST\n",
    "])\n",
    "\n",
    "# Define as transformações para o domínio alvo (MNIST-M)\n",
    "tf_target = tvtf.Compose([\n",
    "    tvtf.Resize(image_size),  # Redimensiona a imagem para 28x28 pixels\n",
    "    tvtf.ToTensor(),  # Converte a imagem para um tensor\n",
    "    tvtf.Normalize(mean=(0.5, 0.5, 0.5), std=(0.5, 0.5, 0.5))\n",
    "    # Normaliza a imagem com a média e desvio padrão do MNIST-M\n",
    "])\n",
    "\n",
    "# Carrega o conjunto de dados MNIST com as transformações definidas\n",
    "ds_source = tv.datasets.MNIST(root=data_dir, train=True, transform=tf_source, download=True)\n",
    "# Cria um DataLoader para o conjunto de dados MNIST\n",
    "dl_source = torch.utils.data.DataLoader(ds_source, batch_size)\n",
    "\n",
    "# Carrega o conjunto de dados MNIST-M com as transformações definidas\n",
    "ds_target = MNISTMDataset(os.path.join(data_dir, 'mnist_m', 'mnist_m_train'),\n",
    "                          os.path.join(data_dir, 'mnist_m', 'mnist_m_train_labels.txt'),\n",
    "                          transform=tf_target)\n",
    "# Cria um DataLoader para o conjunto de dados MNIST-M\n",
    "dl_target = torch.utils.data.DataLoader(ds_target, batch_size)"
   ],
   "outputs": [],
   "execution_count": 65
  },
  {
   "cell_type": "code",
   "metadata": {
    "slideshow": {
     "slide_type": "subslide"
    },
    "ExecuteTime": {
     "end_time": "2024-10-09T22:03:44.346347Z",
     "start_time": "2024-10-09T22:03:14.644779Z"
    }
   },
   "source": [
    "from utils.plots import dataset_first_n\n",
    "\n",
    "dataset_first_n(ds_source, 3, cmap='gray');\n",
    "dataset_first_n(ds_target, 3);"
   ],
   "outputs": [
    {
     "data": {
      "text/plain": [
       "<Figure size 800x800 with 3 Axes>"
      ],
      "image/png": "[encoded data removed]"
     },
     "metadata": {},
     "output_type": "display_data"
    },
    {
     "data": {
      "text/plain": [
       "<Figure size 800x800 with 3 Axes>"
      ],
      "image/png": "[encoded data removed]"
     },
     "metadata": {},
     "output_type": "display_data"
    }
   ],
   "execution_count": 66
  },
  {
   "cell_type": "markdown",
   "metadata": {
    "slideshow": {
     "slide_type": "subslide"
    }
   },
   "source": [
    "##### Modelo"
   ]
  },
  {
   "cell_type": "markdown",
   "metadata": {
    "slideshow": {
     "slide_type": "fragment"
    }
   },
   "source": [
    "Nosso modelo consistirá em três partes, como na figura:\n",
    "\n",
    "- Uma CNN \"profunda\" para extração de características de imagem (2x Conv, ReLU, MaxPool)\n",
    "- Um classificador de dígitos (3x FC, ReLU)\n",
    "- Um classificador de domínio (2x FC, ReLU), com uma **camada de reversão de gradiente** (GRL).\n",
    "\n",
    "<img src=\"img/ganin_da2.png\" width=\"1400\" />"
   ]
  },
  {
   "cell_type": "markdown",
   "metadata": {
    "slideshow": {
     "slide_type": "fragment"
    }
   },
   "source": [
    "Lembre-se: GRL não é utilizado no forward (passe para a frente), mas aplica-se o fator $-\\lambda$ ao gradiente no backward (passe para trás).\n",
    "\n",
    "Como podemos implementar isso?"
   ]
  },
  {
   "cell_type": "code",
   "metadata": {
    "slideshow": {
     "slide_type": "subslide"
    },
    "ExecuteTime": {
     "end_time": "2024-10-09T22:03:44.362355Z",
     "start_time": "2024-10-09T22:03:44.348352Z"
    }
   },
   "source": [
    "from torch.autograd import Function  # Importa a classe base Function do módulo autograd do PyTorch\n",
    "\n",
    "class GradientReversalFn(Function):\n",
    "    @staticmethod\n",
    "    def forward(ctx, x, alpha):\n",
    "        # Armazena o valor de alpha no contexto para uso na etapa backward\n",
    "        ctx.alpha = alpha\n",
    "        # Retorna a entrada sem modificações\n",
    "        return x.view_as(x)\n",
    "\n",
    "    @staticmethod\n",
    "    def backward(ctx, grad_output):\n",
    "        # Inverte o gradiente multiplicando por -alpha\n",
    "        output = grad_output.neg() * ctx.alpha\n",
    "        # Retorna o gradiente modificado e None para o segundo argumento (não há gradiente para alpha)\n",
    "        return output, None"
   ],
   "outputs": [],
   "execution_count": 67
  },
  {
   "cell_type": "code",
   "metadata": {
    "slideshow": {
     "slide_type": "subslide"
    },
    "ExecuteTime": {
     "end_time": "2024-10-09T22:03:44.378352Z",
     "start_time": "2024-10-09T22:03:44.364352Z"
    }
   },
   "source": [
    "class DACNN(nn.Module):\n",
    "    def __init__(self):\n",
    "        super().__init__()\n",
    "        # Define a rede de extração de características\n",
    "        self.feature_extractor = nn.Sequential(\n",
    "            nn.Conv2d(3, 64, kernel_size=5),  # Primeira camada convolucional\n",
    "            nn.BatchNorm2d(64),  # Normalização em lote\n",
    "            nn.MaxPool2d(2),  # Camada de pooling\n",
    "            nn.ReLU(True),  # Função de ativação ReLU\n",
    "            nn.Conv2d(64, 50, kernel_size=5),  # Segunda camada convolucional\n",
    "            nn.BatchNorm2d(50),  # Normalização em lote\n",
    "            nn.Dropout2d(),  # Camada de dropout\n",
    "            nn.MaxPool2d(2),  # Camada de pooling\n",
    "            nn.ReLU(True),  # Função de ativação ReLU\n",
    "        )\n",
    "        # Define o classificador de dígitos\n",
    "        self.class_classifier = nn.Sequential(\n",
    "            nn.Linear(50 * 4 * 4, 100),  # Primeira camada totalmente conectada\n",
    "            nn.BatchNorm1d(100),  # Normalização em lote\n",
    "            nn.Dropout2d(),  # Camada de dropout\n",
    "            nn.ReLU(True),  # Função de ativação ReLU\n",
    "            nn.Linear(100, 100),  # Segunda camada totalmente conectada\n",
    "            nn.BatchNorm1d(100),  # Normalização em lote\n",
    "            nn.ReLU(True),  # Função de ativação ReLU\n",
    "            nn.Linear(100, 10),  # Camada de saída\n",
    "            nn.LogSoftmax(dim=1),  # Função de ativação LogSoftmax\n",
    "        )\n",
    "        # Define o classificador de domínio\n",
    "        self.domain_classifier = nn.Sequential(\n",
    "            nn.Linear(50 * 4 * 4, 100),  # Primeira camada totalmente conectada\n",
    "            nn.BatchNorm1d(100),  # Normalização em lote\n",
    "            nn.ReLU(True),  # Função de ativação ReLU\n",
    "            nn.Linear(100, 2),  # Camada de saída\n",
    "            nn.LogSoftmax(dim=1),  # Função de ativação LogSoftmax\n",
    "        )\n",
    "\n",
    "    def forward(self, x, grl_lambda=1.0):\n",
    "        # Expande a entrada para ter 3 canais\n",
    "        x = x.expand(x.data.shape[0], 3, image_size, image_size)\n",
    "\n",
    "        # Extrai características da entrada\n",
    "        features = self.feature_extractor(x)\n",
    "        features = features.view(-1, 50 * 4 * 4)  # Redimensiona as características para um vetor\n",
    "\n",
    "        # Aplica a função de reversão de gradiente\n",
    "        reverse_features = GradientReversalFn.apply(features, grl_lambda)\n",
    "\n",
    "        # Predição de classe\n",
    "        class_pred = self.class_classifier(features)\n",
    "        # Predição de domínio\n",
    "        domain_pred = self.domain_classifier(reverse_features)\n",
    "\n",
    "        return class_pred, domain_pred  # Retorna as predições de classe e domínio"
   ],
   "outputs": [],
   "execution_count": 68
  },
  {
   "cell_type": "markdown",
   "metadata": {
    "slideshow": {
     "slide_type": "subslide"
    }
   },
   "source": [
    "Por que deixar $\\lambda$ (`grl_lambda` no código) mudar durante o treinamento (por exemplo, a cada época)?"
   ]
  },
  {
   "cell_type": "markdown",
   "metadata": {
    "slideshow": {
     "slide_type": "fragment"
    }
   },
   "source": [
    "- No início do treinamento, a perda de domínio é extremamente ruidosa, pois os recursos da CNN ainda não são bons.\n",
    "- Portanto, lambda é gradualmente alterado de 0 para 1 no curso do treinamento.\n",
    "$$\n",
    "\\lambda_p = \\frac{2}{1+\\exp(-10\\cdot p)} -1,\n",
    "$$\n",
    "onde $p\\in[0,1]$ é o progresso do treinamento."
   ]
  },
  {
   "cell_type": "code",
   "metadata": {
    "slideshow": {
     "slide_type": "slide"
    },
    "ExecuteTime": {
     "end_time": "2024-10-09T22:03:44.410354Z",
     "start_time": "2024-10-09T22:03:44.379352Z"
    }
   },
   "source": [
    "# Instancia o modelo DACNN\n",
    "model = DACNN()\n",
    "\n",
    "# Obtém o primeiro lote de dados do domínio fonte\n",
    "x0_s, y0_s = next(iter(dl_source))\n",
    "# Obtém o primeiro lote de dados do domínio alvo\n",
    "x0_t, y0_t = next(iter(dl_target))\n",
    "\n",
    "# Imprime as formas dos dados do domínio fonte e alvo\n",
    "print('source domain: ', x0_s.shape, y0_s.shape)\n",
    "print('target domain: ', x0_t.shape, y0_t.shape)\n",
    "\n",
    "# Passa o lote de dados do domínio fonte pelo modelo\n",
    "model(x0_s)\n",
    "# Passa o lote de dados do domínio alvo pelo modelo\n",
    "model(x0_t)"
   ],
   "outputs": [
    {
     "name": "stdout",
     "output_type": "stream",
     "text": [
      "source domain:  torch.Size([4, 1, 28, 28]) torch.Size([4])\n",
      "target domain:  torch.Size([4, 3, 28, 28]) torch.Size([4])\n"
     ]
    },
    {
     "data": {
      "text/plain": [
       "(tensor([[-2.0586, -2.3200, -2.6064, -2.4523, -2.3839, -1.5467, -2.6933, -2.6841,\n",
       "          -2.5299, -2.3705],\n",
       "         [-2.9822, -3.3740, -2.7553, -3.0067, -2.9056, -1.5346, -2.6287, -1.8299,\n",
       "          -2.7318, -1.4522],\n",
       "         [-2.6543, -2.5895, -2.4633, -2.3776, -2.5612, -1.9458, -2.8065, -1.6562,\n",
       "          -2.5208, -2.0801],\n",
       "         [-2.6944, -2.5950, -2.8209, -2.7695, -2.7241, -1.8769, -1.9581, -2.0780,\n",
       "          -2.2852, -1.9051]], grad_fn=<LogSoftmaxBackward0>),\n",
       " tensor([[-0.7825, -0.6111],\n",
       "         [-0.8194, -0.5810],\n",
       "         [-0.3430, -1.2366],\n",
       "         [-0.6632, -0.7240]], grad_fn=<LogSoftmaxBackward0>))"
      ]
     },
     "execution_count": 69,
     "metadata": {},
     "output_type": "execute_result"
    }
   ],
   "execution_count": 69
  },
  {
   "cell_type": "markdown",
   "metadata": {
    "slideshow": {
     "slide_type": "slide"
    }
   },
   "source": [
    "##### Treinamento"
   ]
  },
  {
   "cell_type": "code",
   "metadata": {
    "slideshow": {
     "slide_type": "fragment"
    },
    "ExecuteTime": {
     "end_time": "2024-10-09T22:03:44.425352Z",
     "start_time": "2024-10-09T22:03:44.411352Z"
    }
   },
   "source": [
    "lr = 1e-3  # Define a taxa de aprendizado para o otimizador\n",
    "n_epochs = 1  # Define o número de épocas para o treinamento\n",
    "\n",
    "model = DACNN()  # Instancia o modelo DACNN\n",
    "optimizer = optim.Adam(model.parameters(), lr)  # Cria o otimizador Adam com a taxa de aprendizado definida\n",
    "\n",
    "# Duas funções de perda: uma para classificação e outra para domínio\n",
    "loss_fn_class = torch.nn.NLLLoss()  # Função de perda para a classificação de dígitos\n",
    "loss_fn_domain = torch.nn.NLLLoss()  # Função de perda para a classificação de domínio"
   ],
   "outputs": [],
   "execution_count": 70
  },
  {
   "cell_type": "code",
   "metadata": {
    "slideshow": {
     "slide_type": "fragment"
    },
    "ExecuteTime": {
     "end_time": "2024-10-09T22:03:44.440358Z",
     "start_time": "2024-10-09T22:03:44.427352Z"
    }
   },
   "source": [
    "batch_size = 1024  # Define o tamanho do lote para o DataLoader\n",
    "\n",
    "# Cria um DataLoader para o conjunto de dados de origem (MNIST) com o tamanho de lote definido\n",
    "dl_source = torch.utils.data.DataLoader(ds_source, batch_size)\n",
    "\n",
    "# Cria um DataLoader para o conjunto de dados de destino (MNIST-M) com o tamanho de lote definido\n",
    "dl_target = torch.utils.data.DataLoader(ds_target, batch_size)\n",
    "\n",
    "# Carrega o conjunto de dados de validação (MNIST) com as transformações definidas\n",
    "dl_validation = tv.datasets.MNIST(root=data_dir, train=False, transform=tf_source, download=True)\n",
    "\n",
    "# Define o número máximo de lotes a serem treinados como o número de lotes do conjunto de dados de origem menos 2\n",
    "# max_batches = min(len(dl_source), len(dl_target))  # Alternativa: usar o menor número de lotes entre os dois conjuntos de dados\n",
    "max_batches = len(dl_source) - 2"
   ],
   "outputs": [],
   "execution_count": 71
  },
  {
   "cell_type": "code",
   "metadata": {
    "scrolled": true,
    "slideshow": {
     "slide_type": "subslide"
    },
    "ExecuteTime": {
     "end_time": "2024-10-09T22:05:21.810140Z",
     "start_time": "2024-10-09T22:03:44.441360Z"
    }
   },
   "source": [
    "# Treinamento com validação\n",
    "for epoch_idx in range(n_epochs):\n",
    "    # Imprime o número da época atual\n",
    "    print(f'Epoch {epoch_idx + 1:04d} / {n_epochs:04d}', end='\\n=================\\n')\n",
    "\n",
    "    # Cria iteradores para os DataLoaders dos domínios fonte e alvo\n",
    "    dl_source_iter = iter(dl_source)\n",
    "    dl_target_iter = iter(dl_target)\n",
    "\n",
    "    for batch_idx in range(max_batches):\n",
    "        # Zera os gradientes do otimizador\n",
    "        optimizer.zero_grad()\n",
    "\n",
    "        # Calcula o progresso do treinamento e o valor de lambda para a GRL\n",
    "        p = float(batch_idx + epoch_idx * max_batches) / (n_epochs * max_batches)\n",
    "        grl_lambda = 2. / (1. + np.exp(-10 * p)) - 1\n",
    "\n",
    "        # Treino do domínio fonte\n",
    "        X_s, y_s = next(dl_source_iter)  # Obtém o próximo lote de dados do domínio fonte\n",
    "        y_s_domain = torch.zeros(batch_size, dtype=torch.long)  # Define os rótulos do domínio fonte\n",
    "\n",
    "        # Passa os dados pelo modelo e calcula as perdas\n",
    "        class_pred, domain_pred = model(X_s, grl_lambda)\n",
    "        loss_s_label = loss_fn_class(class_pred, y_s)\n",
    "        loss_s_domain = loss_fn_domain(domain_pred, y_s_domain)\n",
    "\n",
    "        # Treino do domínio alvo\n",
    "        X_t, _ = next(dl_target_iter)  # Obtém o próximo lote de dados do domínio alvo (ignorando os rótulos)\n",
    "        y_t_domain = torch.ones(batch_size, dtype=torch.long)  # Define os rótulos do domínio alvo\n",
    "\n",
    "        # Passa os dados pelo modelo e calcula a perda do domínio alvo\n",
    "        _, domain_pred = model(X_t, grl_lambda)\n",
    "        loss_t_domain = loss_fn_domain(domain_pred, y_t_domain)\n",
    "\n",
    "        # Calcula a perda total e realiza o backpropagation\n",
    "        loss = loss_t_domain + loss_s_domain + loss_s_label\n",
    "        loss.backward()\n",
    "        optimizer.step()\n",
    "\n",
    "        # Imprime as perdas e o valor de lambda\n",
    "        print(f'[{batch_idx + 1}/{max_batches}] '\n",
    "              f'class_loss: {loss_s_label.item():.4f} ' f's_domain_loss: {loss_s_domain.item():.4f} '\n",
    "              f't_domain_loss: {loss_t_domain.item():.4f} ' f'grl_lambda: {grl_lambda:.3f} '\n",
    "              )"
   ],
   "outputs": [
    {
     "name": "stdout",
     "output_type": "stream",
     "text": [
      "Epoch 0001 / 0001\n",
      "=================\n",
      "[1/57] class_loss: 2.3620 s_domain_loss: 0.9464 t_domain_loss: 0.5523 grl_lambda: 0.000 \n",
      "[2/57] class_loss: 2.1672 s_domain_loss: 0.8822 t_domain_loss: 0.5862 grl_lambda: 0.087 \n",
      "[3/57] class_loss: 2.0093 s_domain_loss: 0.8327 t_domain_loss: 0.5994 grl_lambda: 0.174 \n",
      "[4/57] class_loss: 1.9240 s_domain_loss: 0.7906 t_domain_loss: 0.6295 grl_lambda: 0.257 \n",
      "[5/57] class_loss: 1.8503 s_domain_loss: 0.7493 t_domain_loss: 0.6713 grl_lambda: 0.337 \n",
      "[6/57] class_loss: 1.7511 s_domain_loss: 0.7080 t_domain_loss: 0.6959 grl_lambda: 0.412 \n",
      "[7/57] class_loss: 1.6931 s_domain_loss: 0.6718 t_domain_loss: 0.7265 grl_lambda: 0.483 \n",
      "[8/57] class_loss: 1.6270 s_domain_loss: 0.6475 t_domain_loss: 0.7492 grl_lambda: 0.547 \n",
      "[9/57] class_loss: 1.5462 s_domain_loss: 0.6221 t_domain_loss: 0.7751 grl_lambda: 0.605 \n",
      "[10/57] class_loss: 1.4928 s_domain_loss: 0.6070 t_domain_loss: 0.7832 grl_lambda: 0.658 \n",
      "[11/57] class_loss: 1.4127 s_domain_loss: 0.5982 t_domain_loss: 0.7946 grl_lambda: 0.705 \n",
      "[12/57] class_loss: 1.4078 s_domain_loss: 0.5927 t_domain_loss: 0.8032 grl_lambda: 0.746 \n",
      "[13/57] class_loss: 1.3836 s_domain_loss: 0.5925 t_domain_loss: 0.8064 grl_lambda: 0.783 \n",
      "[14/57] class_loss: 1.3217 s_domain_loss: 0.5967 t_domain_loss: 0.8032 grl_lambda: 0.815 \n",
      "[15/57] class_loss: 1.2938 s_domain_loss: 0.6001 t_domain_loss: 0.7916 grl_lambda: 0.842 \n",
      "[16/57] class_loss: 1.2224 s_domain_loss: 0.6098 t_domain_loss: 0.7854 grl_lambda: 0.866 \n",
      "[17/57] class_loss: 1.1845 s_domain_loss: 0.6207 t_domain_loss: 0.7718 grl_lambda: 0.886 \n",
      "[18/57] class_loss: 1.1493 s_domain_loss: 0.6344 t_domain_loss: 0.7564 grl_lambda: 0.904 \n",
      "[19/57] class_loss: 1.0862 s_domain_loss: 0.6469 t_domain_loss: 0.7419 grl_lambda: 0.918 \n",
      "[20/57] class_loss: 1.0536 s_domain_loss: 0.6621 t_domain_loss: 0.7219 grl_lambda: 0.931 \n",
      "[21/57] class_loss: 1.0036 s_domain_loss: 0.6796 t_domain_loss: 0.7084 grl_lambda: 0.942 \n",
      "[22/57] class_loss: 0.9778 s_domain_loss: 0.6930 t_domain_loss: 0.6967 grl_lambda: 0.951 \n",
      "[23/57] class_loss: 0.9475 s_domain_loss: 0.7045 t_domain_loss: 0.6881 grl_lambda: 0.959 \n",
      "[24/57] class_loss: 0.9432 s_domain_loss: 0.7130 t_domain_loss: 0.6744 grl_lambda: 0.965 \n",
      "[25/57] class_loss: 0.8977 s_domain_loss: 0.7196 t_domain_loss: 0.6687 grl_lambda: 0.971 \n",
      "[26/57] class_loss: 0.8511 s_domain_loss: 0.7237 t_domain_loss: 0.6686 grl_lambda: 0.975 \n",
      "[27/57] class_loss: 0.8522 s_domain_loss: 0.7237 t_domain_loss: 0.6675 grl_lambda: 0.979 \n",
      "[28/57] class_loss: 0.7746 s_domain_loss: 0.7244 t_domain_loss: 0.6667 grl_lambda: 0.983 \n",
      "[29/57] class_loss: 0.7741 s_domain_loss: 0.7244 t_domain_loss: 0.6709 grl_lambda: 0.985 \n",
      "[30/57] class_loss: 0.7992 s_domain_loss: 0.7192 t_domain_loss: 0.6761 grl_lambda: 0.988 \n",
      "[31/57] class_loss: 0.7503 s_domain_loss: 0.7132 t_domain_loss: 0.6838 grl_lambda: 0.990 \n",
      "[32/57] class_loss: 0.7450 s_domain_loss: 0.7113 t_domain_loss: 0.6849 grl_lambda: 0.991 \n",
      "[33/57] class_loss: 0.6456 s_domain_loss: 0.7035 t_domain_loss: 0.6906 grl_lambda: 0.993 \n",
      "[34/57] class_loss: 0.6404 s_domain_loss: 0.6932 t_domain_loss: 0.6982 grl_lambda: 0.994 \n",
      "[35/57] class_loss: 0.6218 s_domain_loss: 0.6914 t_domain_loss: 0.7010 grl_lambda: 0.995 \n",
      "[36/57] class_loss: 0.6186 s_domain_loss: 0.6838 t_domain_loss: 0.7030 grl_lambda: 0.996 \n",
      "[37/57] class_loss: 0.6182 s_domain_loss: 0.6800 t_domain_loss: 0.7058 grl_lambda: 0.996 \n",
      "[38/57] class_loss: 0.5456 s_domain_loss: 0.6757 t_domain_loss: 0.7045 grl_lambda: 0.997 \n",
      "[39/57] class_loss: 0.5803 s_domain_loss: 0.6716 t_domain_loss: 0.7064 grl_lambda: 0.997 \n",
      "[40/57] class_loss: 0.5019 s_domain_loss: 0.6717 t_domain_loss: 0.7031 grl_lambda: 0.998 \n",
      "[41/57] class_loss: 0.5409 s_domain_loss: 0.6704 t_domain_loss: 0.7015 grl_lambda: 0.998 \n",
      "[42/57] class_loss: 0.5336 s_domain_loss: 0.6695 t_domain_loss: 0.7005 grl_lambda: 0.998 \n",
      "[43/57] class_loss: 0.4688 s_domain_loss: 0.6694 t_domain_loss: 0.6989 grl_lambda: 0.999 \n",
      "[44/57] class_loss: 0.4798 s_domain_loss: 0.6697 t_domain_loss: 0.6966 grl_lambda: 0.999 \n",
      "[45/57] class_loss: 0.4930 s_domain_loss: 0.6686 t_domain_loss: 0.6902 grl_lambda: 0.999 \n",
      "[46/57] class_loss: 0.4690 s_domain_loss: 0.6682 t_domain_loss: 0.6920 grl_lambda: 0.999 \n",
      "[47/57] class_loss: 0.4636 s_domain_loss: 0.6699 t_domain_loss: 0.6866 grl_lambda: 0.999 \n",
      "[48/57] class_loss: 0.4294 s_domain_loss: 0.6646 t_domain_loss: 0.6906 grl_lambda: 0.999 \n",
      "[49/57] class_loss: 0.4396 s_domain_loss: 0.6670 t_domain_loss: 0.6868 grl_lambda: 1.000 \n",
      "[50/57] class_loss: 0.4184 s_domain_loss: 0.6676 t_domain_loss: 0.6874 grl_lambda: 1.000 \n",
      "[51/57] class_loss: 0.3832 s_domain_loss: 0.6655 t_domain_loss: 0.6853 grl_lambda: 1.000 \n",
      "[52/57] class_loss: 0.3786 s_domain_loss: 0.6644 t_domain_loss: 0.6826 grl_lambda: 1.000 \n",
      "[53/57] class_loss: 0.3661 s_domain_loss: 0.6644 t_domain_loss: 0.6837 grl_lambda: 1.000 \n",
      "[54/57] class_loss: 0.3511 s_domain_loss: 0.6650 t_domain_loss: 0.6790 grl_lambda: 1.000 \n",
      "[55/57] class_loss: 0.3469 s_domain_loss: 0.6651 t_domain_loss: 0.6843 grl_lambda: 1.000 \n",
      "[56/57] class_loss: 0.3268 s_domain_loss: 0.6649 t_domain_loss: 0.6802 grl_lambda: 1.000 \n",
      "[57/57] class_loss: 0.2982 s_domain_loss: 0.6595 t_domain_loss: 0.6867 grl_lambda: 1.000 \n"
     ]
    }
   ],
   "execution_count": 72
  },
  {
   "cell_type": "markdown",
   "metadata": {
    "slideshow": {
     "slide_type": "subslide"
    }
   },
   "source": [
    "### Visualização dos embeddings"
   ]
  },
  {
   "cell_type": "markdown",
   "metadata": {
    "slideshow": {
     "slide_type": "fragment"
    }
   },
   "source": [
    "O espaço das features convolucionais aprendidas pelo modelo.\n",
    "\n",
    "Lembre-se, a perda de confusão de domínio deveria fazer com que as imagens de ambos os domínios parecessem iguais para o classificador."
   ]
  },
  {
   "cell_type": "markdown",
   "metadata": {
    "slideshow": {
     "slide_type": "fragment"
    }
   },
   "source": [
    "<img src=\"img/ganin_da3.png\" width=\"1400\"/>"
   ]
  },
  {
   "cell_type": "markdown",
   "metadata": {
    "slideshow": {
     "slide_type": "skip"
    }
   },
   "source": [
    "**Créditos de imagens**\n",
    "\n",
    "Algumas imagens neste tutorial foram tiradas e/ou adaptadas de:\n",
    "\n",
    "- Pan & Yang, 2010, A Survey on Transfer Learning\n",
    "- Zeiler & Fergus, 2013, Visualizing and Understanding Convolutional Networks\n",
    "- Y. Ganin et al. 2015, Unsupervised Domain Adaptation by Backpropagation \n",
    "- M. Wulfmeier et al., https://arxiv.org/abs/1703.01461v2\n",
    "- Sebastian Ruder, http://ruder.io/"
   ]
  }
 ],
 "metadata": {
  "celltoolbar": "Slideshow",
  "kernelspec": {
   "display_name": "Python 3",
   "language": "python",
   "name": "python3"
  },
  "language_info": {
   "codemirror_mode": {
    "name": "ipython",
    "version": 3
   },
   "file_extension": ".py",
   "mimetype": "text/x-python",
   "name": "python",
   "nbconvert_exporter": "python",
   "pygments_lexer": "ipython3",
   "version": "3.10.12"
  }
 },
 "nbformat": 4,
 "nbformat_minor": 2
}
